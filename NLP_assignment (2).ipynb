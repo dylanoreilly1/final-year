{
  "cells": [
    {
      "cell_type": "markdown",
      "metadata": {
        "id": "c_Z-i5i_PcHf"
      },
      "source": []
    },
    {
      "cell_type": "markdown",
      "metadata": {
        "id": "yV9WW7voPcHj"
      },
      "source": [
        "# Natural Language Processing </a>\n",
        "\n",
        "## Assignment: K Nearest Neighbors Model for the IMDB Movie Review Dataset\n",
        "\n",
        "For the final project, build a K Nearest Neighbors model to predict the sentiment (positive or negative) of movie reviews. The dataset is originally hosted here: http://ai.stanford.edu/~amaas/data/sentiment/\n",
        "\n",
        "Use the notebooks from the class and implement the model, train and test with the corresponding datasets.\n",
        "\n",
        "You can follow these steps:\n",
        "1. Read training-test data (Given)\n",
        "2. Train a KNN classifier (Implement)\n",
        "3. Make predictions on your test dataset (Implement)\n",
        "\n",
        "__You can use the KNN Classifier from here: https://scikit-learn.org/stable/modules/generated/sklearn.neighbors.KNeighborsClassifier.html__"
      ]
    },
    {
      "cell_type": "markdown",
      "metadata": {
        "id": "Qf9gzc3NPcHm"
      },
      "source": [
        "## 1. Reading the dataset\n",
        "\n",
        "We will use the __pandas__ library to read our dataset. "
      ]
    },
    {
      "cell_type": "markdown",
      "metadata": {
        "id": "6R1S95FYPcHm"
      },
      "source": [
        "#### __Training data:__\n",
        "Let's read our training data. Here, we have the text and label fields. Labe is 1 for positive reviews and 0 for negative reviews."
      ]
    },
    {
      "cell_type": "code",
      "execution_count": 26,
      "metadata": {
        "colab": {
          "base_uri": "https://localhost:8080/",
          "height": 206
        },
        "id": "imYuQ2EcPcHn",
        "outputId": "2fc0f628-f4f8-4650-8a49-8ec9f664ce20"
      },
      "outputs": [
        {
          "output_type": "execute_result",
          "data": {
            "text/plain": [
              "                                                text  label\n",
              "0  This movie makes me want to throw up every tim...      0\n",
              "1  Listening to the director's commentary confirm...      0\n",
              "2  One of the best Tarzan films is also one of it...      1\n",
              "3  Valentine is now one of my favorite slasher fi...      1\n",
              "4  No mention if Ann Rivers Siddons adapted the m...      0"
            ],
            "text/html": [
              "\n",
              "  <div id=\"df-fc215205-be7b-4d12-b83f-1956064515f5\">\n",
              "    <div class=\"colab-df-container\">\n",
              "      <div>\n",
              "<style scoped>\n",
              "    .dataframe tbody tr th:only-of-type {\n",
              "        vertical-align: middle;\n",
              "    }\n",
              "\n",
              "    .dataframe tbody tr th {\n",
              "        vertical-align: top;\n",
              "    }\n",
              "\n",
              "    .dataframe thead th {\n",
              "        text-align: right;\n",
              "    }\n",
              "</style>\n",
              "<table border=\"1\" class=\"dataframe\">\n",
              "  <thead>\n",
              "    <tr style=\"text-align: right;\">\n",
              "      <th></th>\n",
              "      <th>text</th>\n",
              "      <th>label</th>\n",
              "    </tr>\n",
              "  </thead>\n",
              "  <tbody>\n",
              "    <tr>\n",
              "      <th>0</th>\n",
              "      <td>This movie makes me want to throw up every tim...</td>\n",
              "      <td>0</td>\n",
              "    </tr>\n",
              "    <tr>\n",
              "      <th>1</th>\n",
              "      <td>Listening to the director's commentary confirm...</td>\n",
              "      <td>0</td>\n",
              "    </tr>\n",
              "    <tr>\n",
              "      <th>2</th>\n",
              "      <td>One of the best Tarzan films is also one of it...</td>\n",
              "      <td>1</td>\n",
              "    </tr>\n",
              "    <tr>\n",
              "      <th>3</th>\n",
              "      <td>Valentine is now one of my favorite slasher fi...</td>\n",
              "      <td>1</td>\n",
              "    </tr>\n",
              "    <tr>\n",
              "      <th>4</th>\n",
              "      <td>No mention if Ann Rivers Siddons adapted the m...</td>\n",
              "      <td>0</td>\n",
              "    </tr>\n",
              "  </tbody>\n",
              "</table>\n",
              "</div>\n",
              "      <button class=\"colab-df-convert\" onclick=\"convertToInteractive('df-fc215205-be7b-4d12-b83f-1956064515f5')\"\n",
              "              title=\"Convert this dataframe to an interactive table.\"\n",
              "              style=\"display:none;\">\n",
              "        \n",
              "  <svg xmlns=\"http://www.w3.org/2000/svg\" height=\"24px\"viewBox=\"0 0 24 24\"\n",
              "       width=\"24px\">\n",
              "    <path d=\"M0 0h24v24H0V0z\" fill=\"none\"/>\n",
              "    <path d=\"M18.56 5.44l.94 2.06.94-2.06 2.06-.94-2.06-.94-.94-2.06-.94 2.06-2.06.94zm-11 1L8.5 8.5l.94-2.06 2.06-.94-2.06-.94L8.5 2.5l-.94 2.06-2.06.94zm10 10l.94 2.06.94-2.06 2.06-.94-2.06-.94-.94-2.06-.94 2.06-2.06.94z\"/><path d=\"M17.41 7.96l-1.37-1.37c-.4-.4-.92-.59-1.43-.59-.52 0-1.04.2-1.43.59L10.3 9.45l-7.72 7.72c-.78.78-.78 2.05 0 2.83L4 21.41c.39.39.9.59 1.41.59.51 0 1.02-.2 1.41-.59l7.78-7.78 2.81-2.81c.8-.78.8-2.07 0-2.86zM5.41 20L4 18.59l7.72-7.72 1.47 1.35L5.41 20z\"/>\n",
              "  </svg>\n",
              "      </button>\n",
              "      \n",
              "  <style>\n",
              "    .colab-df-container {\n",
              "      display:flex;\n",
              "      flex-wrap:wrap;\n",
              "      gap: 12px;\n",
              "    }\n",
              "\n",
              "    .colab-df-convert {\n",
              "      background-color: #E8F0FE;\n",
              "      border: none;\n",
              "      border-radius: 50%;\n",
              "      cursor: pointer;\n",
              "      display: none;\n",
              "      fill: #1967D2;\n",
              "      height: 32px;\n",
              "      padding: 0 0 0 0;\n",
              "      width: 32px;\n",
              "    }\n",
              "\n",
              "    .colab-df-convert:hover {\n",
              "      background-color: #E2EBFA;\n",
              "      box-shadow: 0px 1px 2px rgba(60, 64, 67, 0.3), 0px 1px 3px 1px rgba(60, 64, 67, 0.15);\n",
              "      fill: #174EA6;\n",
              "    }\n",
              "\n",
              "    [theme=dark] .colab-df-convert {\n",
              "      background-color: #3B4455;\n",
              "      fill: #D2E3FC;\n",
              "    }\n",
              "\n",
              "    [theme=dark] .colab-df-convert:hover {\n",
              "      background-color: #434B5C;\n",
              "      box-shadow: 0px 1px 3px 1px rgba(0, 0, 0, 0.15);\n",
              "      filter: drop-shadow(0px 1px 2px rgba(0, 0, 0, 0.3));\n",
              "      fill: #FFFFFF;\n",
              "    }\n",
              "  </style>\n",
              "\n",
              "      <script>\n",
              "        const buttonEl =\n",
              "          document.querySelector('#df-fc215205-be7b-4d12-b83f-1956064515f5 button.colab-df-convert');\n",
              "        buttonEl.style.display =\n",
              "          google.colab.kernel.accessAllowed ? 'block' : 'none';\n",
              "\n",
              "        async function convertToInteractive(key) {\n",
              "          const element = document.querySelector('#df-fc215205-be7b-4d12-b83f-1956064515f5');\n",
              "          const dataTable =\n",
              "            await google.colab.kernel.invokeFunction('convertToInteractive',\n",
              "                                                     [key], {});\n",
              "          if (!dataTable) return;\n",
              "\n",
              "          const docLinkHtml = 'Like what you see? Visit the ' +\n",
              "            '<a target=\"_blank\" href=https://colab.research.google.com/notebooks/data_table.ipynb>data table notebook</a>'\n",
              "            + ' to learn more about interactive tables.';\n",
              "          element.innerHTML = '';\n",
              "          dataTable['output_type'] = 'display_data';\n",
              "          await google.colab.output.renderOutput(dataTable, element);\n",
              "          const docLink = document.createElement('div');\n",
              "          docLink.innerHTML = docLinkHtml;\n",
              "          element.appendChild(docLink);\n",
              "        }\n",
              "      </script>\n",
              "    </div>\n",
              "  </div>\n",
              "  "
            ]
          },
          "metadata": {},
          "execution_count": 26
        }
      ],
      "source": [
        "import pandas as pd\n",
        "\n",
        "train_df = pd.read_csv('https://raw.githubusercontent.com/aws-samples/aws-machine-learning-university-accelerated-nlp/master/data/final_project/imdb_train.csv', header=0)\n",
        "train_df.head()"
      ]
    },
    {
      "cell_type": "markdown",
      "metadata": {
        "id": "h5c7uQRYPcHn"
      },
      "source": [
        "#### __Test data:__"
      ]
    },
    {
      "cell_type": "code",
      "execution_count": 27,
      "metadata": {
        "colab": {
          "base_uri": "https://localhost:8080/",
          "height": 206
        },
        "id": "DiBpa04fPcHo",
        "outputId": "9aa0d771-68b7-4037-80b3-2677f6904847"
      },
      "outputs": [
        {
          "output_type": "execute_result",
          "data": {
            "text/plain": [
              "                                                text  label\n",
              "0  What I hoped for (or even expected) was the we...      0\n",
              "1  Garden State must rate amongst the most contri...      0\n",
              "2  There is a lot wrong with this film. I will no...      1\n",
              "3  To qualify my use of \"realistic\" in the summar...      1\n",
              "4  Dirty War is absolutely one of the best politi...      1"
            ],
            "text/html": [
              "\n",
              "  <div id=\"df-8f0c39f2-8fd2-4d67-8748-c095e1a79f5a\">\n",
              "    <div class=\"colab-df-container\">\n",
              "      <div>\n",
              "<style scoped>\n",
              "    .dataframe tbody tr th:only-of-type {\n",
              "        vertical-align: middle;\n",
              "    }\n",
              "\n",
              "    .dataframe tbody tr th {\n",
              "        vertical-align: top;\n",
              "    }\n",
              "\n",
              "    .dataframe thead th {\n",
              "        text-align: right;\n",
              "    }\n",
              "</style>\n",
              "<table border=\"1\" class=\"dataframe\">\n",
              "  <thead>\n",
              "    <tr style=\"text-align: right;\">\n",
              "      <th></th>\n",
              "      <th>text</th>\n",
              "      <th>label</th>\n",
              "    </tr>\n",
              "  </thead>\n",
              "  <tbody>\n",
              "    <tr>\n",
              "      <th>0</th>\n",
              "      <td>What I hoped for (or even expected) was the we...</td>\n",
              "      <td>0</td>\n",
              "    </tr>\n",
              "    <tr>\n",
              "      <th>1</th>\n",
              "      <td>Garden State must rate amongst the most contri...</td>\n",
              "      <td>0</td>\n",
              "    </tr>\n",
              "    <tr>\n",
              "      <th>2</th>\n",
              "      <td>There is a lot wrong with this film. I will no...</td>\n",
              "      <td>1</td>\n",
              "    </tr>\n",
              "    <tr>\n",
              "      <th>3</th>\n",
              "      <td>To qualify my use of \"realistic\" in the summar...</td>\n",
              "      <td>1</td>\n",
              "    </tr>\n",
              "    <tr>\n",
              "      <th>4</th>\n",
              "      <td>Dirty War is absolutely one of the best politi...</td>\n",
              "      <td>1</td>\n",
              "    </tr>\n",
              "  </tbody>\n",
              "</table>\n",
              "</div>\n",
              "      <button class=\"colab-df-convert\" onclick=\"convertToInteractive('df-8f0c39f2-8fd2-4d67-8748-c095e1a79f5a')\"\n",
              "              title=\"Convert this dataframe to an interactive table.\"\n",
              "              style=\"display:none;\">\n",
              "        \n",
              "  <svg xmlns=\"http://www.w3.org/2000/svg\" height=\"24px\"viewBox=\"0 0 24 24\"\n",
              "       width=\"24px\">\n",
              "    <path d=\"M0 0h24v24H0V0z\" fill=\"none\"/>\n",
              "    <path d=\"M18.56 5.44l.94 2.06.94-2.06 2.06-.94-2.06-.94-.94-2.06-.94 2.06-2.06.94zm-11 1L8.5 8.5l.94-2.06 2.06-.94-2.06-.94L8.5 2.5l-.94 2.06-2.06.94zm10 10l.94 2.06.94-2.06 2.06-.94-2.06-.94-.94-2.06-.94 2.06-2.06.94z\"/><path d=\"M17.41 7.96l-1.37-1.37c-.4-.4-.92-.59-1.43-.59-.52 0-1.04.2-1.43.59L10.3 9.45l-7.72 7.72c-.78.78-.78 2.05 0 2.83L4 21.41c.39.39.9.59 1.41.59.51 0 1.02-.2 1.41-.59l7.78-7.78 2.81-2.81c.8-.78.8-2.07 0-2.86zM5.41 20L4 18.59l7.72-7.72 1.47 1.35L5.41 20z\"/>\n",
              "  </svg>\n",
              "      </button>\n",
              "      \n",
              "  <style>\n",
              "    .colab-df-container {\n",
              "      display:flex;\n",
              "      flex-wrap:wrap;\n",
              "      gap: 12px;\n",
              "    }\n",
              "\n",
              "    .colab-df-convert {\n",
              "      background-color: #E8F0FE;\n",
              "      border: none;\n",
              "      border-radius: 50%;\n",
              "      cursor: pointer;\n",
              "      display: none;\n",
              "      fill: #1967D2;\n",
              "      height: 32px;\n",
              "      padding: 0 0 0 0;\n",
              "      width: 32px;\n",
              "    }\n",
              "\n",
              "    .colab-df-convert:hover {\n",
              "      background-color: #E2EBFA;\n",
              "      box-shadow: 0px 1px 2px rgba(60, 64, 67, 0.3), 0px 1px 3px 1px rgba(60, 64, 67, 0.15);\n",
              "      fill: #174EA6;\n",
              "    }\n",
              "\n",
              "    [theme=dark] .colab-df-convert {\n",
              "      background-color: #3B4455;\n",
              "      fill: #D2E3FC;\n",
              "    }\n",
              "\n",
              "    [theme=dark] .colab-df-convert:hover {\n",
              "      background-color: #434B5C;\n",
              "      box-shadow: 0px 1px 3px 1px rgba(0, 0, 0, 0.15);\n",
              "      filter: drop-shadow(0px 1px 2px rgba(0, 0, 0, 0.3));\n",
              "      fill: #FFFFFF;\n",
              "    }\n",
              "  </style>\n",
              "\n",
              "      <script>\n",
              "        const buttonEl =\n",
              "          document.querySelector('#df-8f0c39f2-8fd2-4d67-8748-c095e1a79f5a button.colab-df-convert');\n",
              "        buttonEl.style.display =\n",
              "          google.colab.kernel.accessAllowed ? 'block' : 'none';\n",
              "\n",
              "        async function convertToInteractive(key) {\n",
              "          const element = document.querySelector('#df-8f0c39f2-8fd2-4d67-8748-c095e1a79f5a');\n",
              "          const dataTable =\n",
              "            await google.colab.kernel.invokeFunction('convertToInteractive',\n",
              "                                                     [key], {});\n",
              "          if (!dataTable) return;\n",
              "\n",
              "          const docLinkHtml = 'Like what you see? Visit the ' +\n",
              "            '<a target=\"_blank\" href=https://colab.research.google.com/notebooks/data_table.ipynb>data table notebook</a>'\n",
              "            + ' to learn more about interactive tables.';\n",
              "          element.innerHTML = '';\n",
              "          dataTable['output_type'] = 'display_data';\n",
              "          await google.colab.output.renderOutput(dataTable, element);\n",
              "          const docLink = document.createElement('div');\n",
              "          docLink.innerHTML = docLinkHtml;\n",
              "          element.appendChild(docLink);\n",
              "        }\n",
              "      </script>\n",
              "    </div>\n",
              "  </div>\n",
              "  "
            ]
          },
          "metadata": {},
          "execution_count": 27
        }
      ],
      "source": [
        "import pandas as pd\n",
        "\n",
        "test_df = pd.read_csv('https://raw.githubusercontent.com/aws-samples/aws-machine-learning-university-accelerated-nlp/master/data/final_project/imdb_test.csv', header=0)\n",
        "test_df.head()"
      ]
    },
    {
      "cell_type": "markdown",
      "metadata": {
        "id": "_n7O1xvmPcHp"
      },
      "source": [
        "## 2. Train a KNN Classifier\n",
        "Here, you will apply pre-processing operations we covered in the class. Then, you can split your dataset to training and validation here. For your first submission, you will use __K Nearest Neighbors Classifier__. It is available [here](https://scikit-learn.org/stable/modules/generated/sklearn.neighbors.KNeighborsClassifier.html)."
      ]
    },
    {
      "cell_type": "code",
      "execution_count": 28,
      "metadata": {
        "id": "5f90bOZGPcHp",
        "outputId": "652f9fe5-de9c-467b-928e-e9e29875d337",
        "colab": {
          "base_uri": "https://localhost:8080/"
        }
      },
      "outputs": [
        {
          "output_type": "execute_result",
          "data": {
            "text/plain": [
              "0    12500\n",
              "1    12500\n",
              "Name: label, dtype: int64"
            ]
          },
          "metadata": {},
          "execution_count": 28
        }
      ],
      "source": [
        "# Implement \n",
        "from sklearn.neighbors import KNeighborsClassifier\n",
        "\n",
        "train_df[\"label\"].value_counts()\n"
      ]
    },
    {
      "cell_type": "code",
      "source": [
        "print(train_df.isna().sum())"
      ],
      "metadata": {
        "id": "VHQ555iQcScU",
        "outputId": "e65c0264-3606-4389-95cc-0504ab8553e3",
        "colab": {
          "base_uri": "https://localhost:8080/"
        }
      },
      "execution_count": 29,
      "outputs": [
        {
          "output_type": "stream",
          "name": "stdout",
          "text": [
            "text     0\n",
            "label    0\n",
            "dtype: int64\n"
          ]
        }
      ]
    },
    {
      "cell_type": "code",
      "source": [
        "import nltk\n",
        "\n",
        "nltk.download('punkt')\n",
        "nltk.download('stopwords')"
      ],
      "metadata": {
        "id": "0nKprB_beqzL",
        "outputId": "0555c08e-db0f-4b81-c671-8ef938d560f7",
        "colab": {
          "base_uri": "https://localhost:8080/"
        }
      },
      "execution_count": 30,
      "outputs": [
        {
          "output_type": "stream",
          "name": "stderr",
          "text": [
            "[nltk_data] Downloading package punkt to /root/nltk_data...\n",
            "[nltk_data]   Package punkt is already up-to-date!\n",
            "[nltk_data] Downloading package stopwords to /root/nltk_data...\n",
            "[nltk_data]   Package stopwords is already up-to-date!\n"
          ]
        },
        {
          "output_type": "execute_result",
          "data": {
            "text/plain": [
              "True"
            ]
          },
          "metadata": {},
          "execution_count": 30
        }
      ]
    },
    {
      "cell_type": "code",
      "source": [
        "import nltk, re\n",
        "from nltk.corpus import stopwords\n",
        "from nltk.stem import SnowballStemmer\n",
        "from nltk.tokenize import word_tokenize\n",
        "\n",
        "# Let's get a list of stop words from the NLTK library\n",
        "stop = stopwords.words('english')\n",
        "\n",
        "# These words are important for our problem. We don't want to remove them.\n",
        "excluding = ['against', 'not', 'don', \"don't\",'ain', 'aren', \"aren't\", 'couldn', \"couldn't\",\n",
        "             'didn', \"didn't\", 'doesn', \"doesn't\", 'hadn', \"hadn't\", 'hasn', \"hasn't\", \n",
        "             'haven', \"haven't\", 'isn', \"isn't\", 'mightn', \"mightn't\", 'mustn', \"mustn't\",\n",
        "             'needn', \"needn't\",'shouldn', \"shouldn't\", 'wasn', \"wasn't\", 'weren', \n",
        "             \"weren't\", 'won', \"won't\", 'wouldn', \"wouldn't\"]\n",
        "\n",
        "# New stop word list\n",
        "stop_words = [word for word in stop if word not in excluding]\n",
        "\n",
        "snow = SnowballStemmer('english')\n",
        "\n",
        "def process_text(texts): \n",
        "    final_text_list=[]\n",
        "    for sent in texts:\n",
        "        \n",
        "        # Check if the sentence is a missing value\n",
        "        if isinstance(sent, str) == False:\n",
        "            sent = \"\"\n",
        "            \n",
        "        filtered_sentence=[]\n",
        "        \n",
        "        sent = sent.lower() # Lowercase \n",
        "        sent = sent.strip() # Remove leading/trailing whitespace\n",
        "        sent = re.sub('\\s+', ' ', sent) # Remove extra space and tabs\n",
        "        sent = re.compile('<.*?>').sub('', sent) # Remove HTML tags/markups:\n",
        "        \n",
        "        for w in word_tokenize(sent):\n",
        "            # We are applying some custom filtering here, feel free to try different things\n",
        "            # Check if it is not numeric and its length>2 and not in stop words\n",
        "            if(not w.isnumeric()) and (len(w)>2) and (w not in stop_words):  \n",
        "                # Stem and add to filtered list\n",
        "                filtered_sentence.append(snow.stem(w))\n",
        "        final_string = \" \".join(filtered_sentence) #final string of cleaned words\n",
        " \n",
        "        final_text_list.append(final_string)\n",
        "        \n",
        "    return final_text_list"
      ],
      "metadata": {
        "id": "Jg_OfcTcVFOX"
      },
      "execution_count": 31,
      "outputs": []
    },
    {
      "cell_type": "code",
      "source": [
        "from sklearn.model_selection import train_test_split\n",
        "\n",
        "X=train_df[[\"text\"]]\n",
        "Y=train_df[\"label\"]\n",
        "X_train, X_val, y_train, y_val = train_test_split(X,\n",
        "                                                  Y,\n",
        "                                                  test_size=0.10,\n",
        "                                                  shuffle=True,\n",
        "                                                  random_state=324\n",
        "                                                 )"
      ],
      "metadata": {
        "id": "SL-io-oJe3cd"
      },
      "execution_count": 32,
      "outputs": []
    },
    {
      "cell_type": "code",
      "source": [],
      "metadata": {
        "id": "-zOESHf5ra-l"
      },
      "execution_count": null,
      "outputs": []
    },
    {
      "cell_type": "code",
      "source": [
        "print(\"Processing the text fields\")\n",
        "train_text_list = process_text(X_train[\"text\"].tolist())\n",
        "val_text_list = process_text(X_val[\"text\"].tolist())"
      ],
      "metadata": {
        "id": "YkfOkQKDfgeH",
        "outputId": "162de9b4-1cbe-4383-dc16-8e7ab292d899",
        "colab": {
          "base_uri": "https://localhost:8080/"
        }
      },
      "execution_count": 33,
      "outputs": [
        {
          "output_type": "stream",
          "name": "stdout",
          "text": [
            "Processing the text fields\n"
          ]
        }
      ]
    },
    {
      "cell_type": "code",
      "source": [
        "from sklearn.pipeline import Pipeline\n",
        "from sklearn.feature_extraction.text import CountVectorizer\n",
        "from sklearn.feature_extraction.text import TfidfVectorizer\n",
        "from sklearn.neighbors import KNeighborsClassifier\n",
        "\n",
        "\n",
        "import gensim\n",
        "from gensim.models import Word2Vec\n",
        "### PIPELINE ###\n",
        "##########################\n",
        "w2v = gensim.models.Word2Vec()\n",
        "pipeline = Pipeline([\n",
        "    ('text_vect', CountVectorizer(binary=False,\n",
        "    #( 'text_vect', TfidfVectorizer(use_idf=True,\n",
        "                                  max_features=30)),\n",
        "    ('knn', KNeighborsClassifier())  \n",
        "                                ])\n",
        "\n",
        "\n",
        "# Visualize the pipeline\n",
        "# This will come in handy especially when building more complex pipelines, stringing together multiple preprocessing steps\n",
        "from sklearn import set_config\n",
        "set_config(display='diagram')\n",
        "pipeline"
      ],
      "metadata": {
        "id": "yeEG_VBBhypA",
        "outputId": "8224ddd5-1c26-4ce9-df58-9111dfca15d4",
        "colab": {
          "base_uri": "https://localhost:8080/",
          "height": 126
        }
      },
      "execution_count": 93,
      "outputs": [
        {
          "output_type": "execute_result",
          "data": {
            "text/plain": [
              "Pipeline(steps=[('text_vect', CountVectorizer(max_features=30)),\n",
              "                ('knn', KNeighborsClassifier())])"
            ],
            "text/html": [
              "<style>#sk-1f29ec46-690a-4fe6-ad90-cdf956a1539e {color: black;background-color: white;}#sk-1f29ec46-690a-4fe6-ad90-cdf956a1539e pre{padding: 0;}#sk-1f29ec46-690a-4fe6-ad90-cdf956a1539e div.sk-toggleable {background-color: white;}#sk-1f29ec46-690a-4fe6-ad90-cdf956a1539e label.sk-toggleable__label {cursor: pointer;display: block;width: 100%;margin-bottom: 0;padding: 0.3em;box-sizing: border-box;text-align: center;}#sk-1f29ec46-690a-4fe6-ad90-cdf956a1539e label.sk-toggleable__label-arrow:before {content: \"▸\";float: left;margin-right: 0.25em;color: #696969;}#sk-1f29ec46-690a-4fe6-ad90-cdf956a1539e label.sk-toggleable__label-arrow:hover:before {color: black;}#sk-1f29ec46-690a-4fe6-ad90-cdf956a1539e div.sk-estimator:hover label.sk-toggleable__label-arrow:before {color: black;}#sk-1f29ec46-690a-4fe6-ad90-cdf956a1539e div.sk-toggleable__content {max-height: 0;max-width: 0;overflow: hidden;text-align: left;background-color: #f0f8ff;}#sk-1f29ec46-690a-4fe6-ad90-cdf956a1539e div.sk-toggleable__content pre {margin: 0.2em;color: black;border-radius: 0.25em;background-color: #f0f8ff;}#sk-1f29ec46-690a-4fe6-ad90-cdf956a1539e input.sk-toggleable__control:checked~div.sk-toggleable__content {max-height: 200px;max-width: 100%;overflow: auto;}#sk-1f29ec46-690a-4fe6-ad90-cdf956a1539e input.sk-toggleable__control:checked~label.sk-toggleable__label-arrow:before {content: \"▾\";}#sk-1f29ec46-690a-4fe6-ad90-cdf956a1539e div.sk-estimator input.sk-toggleable__control:checked~label.sk-toggleable__label {background-color: #d4ebff;}#sk-1f29ec46-690a-4fe6-ad90-cdf956a1539e div.sk-label input.sk-toggleable__control:checked~label.sk-toggleable__label {background-color: #d4ebff;}#sk-1f29ec46-690a-4fe6-ad90-cdf956a1539e input.sk-hidden--visually {border: 0;clip: rect(1px 1px 1px 1px);clip: rect(1px, 1px, 1px, 1px);height: 1px;margin: -1px;overflow: hidden;padding: 0;position: absolute;width: 1px;}#sk-1f29ec46-690a-4fe6-ad90-cdf956a1539e div.sk-estimator {font-family: monospace;background-color: #f0f8ff;border: 1px dotted black;border-radius: 0.25em;box-sizing: border-box;margin-bottom: 0.5em;}#sk-1f29ec46-690a-4fe6-ad90-cdf956a1539e div.sk-estimator:hover {background-color: #d4ebff;}#sk-1f29ec46-690a-4fe6-ad90-cdf956a1539e div.sk-parallel-item::after {content: \"\";width: 100%;border-bottom: 1px solid gray;flex-grow: 1;}#sk-1f29ec46-690a-4fe6-ad90-cdf956a1539e div.sk-label:hover label.sk-toggleable__label {background-color: #d4ebff;}#sk-1f29ec46-690a-4fe6-ad90-cdf956a1539e div.sk-serial::before {content: \"\";position: absolute;border-left: 1px solid gray;box-sizing: border-box;top: 2em;bottom: 0;left: 50%;}#sk-1f29ec46-690a-4fe6-ad90-cdf956a1539e div.sk-serial {display: flex;flex-direction: column;align-items: center;background-color: white;padding-right: 0.2em;padding-left: 0.2em;}#sk-1f29ec46-690a-4fe6-ad90-cdf956a1539e div.sk-item {z-index: 1;}#sk-1f29ec46-690a-4fe6-ad90-cdf956a1539e div.sk-parallel {display: flex;align-items: stretch;justify-content: center;background-color: white;}#sk-1f29ec46-690a-4fe6-ad90-cdf956a1539e div.sk-parallel::before {content: \"\";position: absolute;border-left: 1px solid gray;box-sizing: border-box;top: 2em;bottom: 0;left: 50%;}#sk-1f29ec46-690a-4fe6-ad90-cdf956a1539e div.sk-parallel-item {display: flex;flex-direction: column;position: relative;background-color: white;}#sk-1f29ec46-690a-4fe6-ad90-cdf956a1539e div.sk-parallel-item:first-child::after {align-self: flex-end;width: 50%;}#sk-1f29ec46-690a-4fe6-ad90-cdf956a1539e div.sk-parallel-item:last-child::after {align-self: flex-start;width: 50%;}#sk-1f29ec46-690a-4fe6-ad90-cdf956a1539e div.sk-parallel-item:only-child::after {width: 0;}#sk-1f29ec46-690a-4fe6-ad90-cdf956a1539e div.sk-dashed-wrapped {border: 1px dashed gray;margin: 0 0.4em 0.5em 0.4em;box-sizing: border-box;padding-bottom: 0.4em;background-color: white;position: relative;}#sk-1f29ec46-690a-4fe6-ad90-cdf956a1539e div.sk-label label {font-family: monospace;font-weight: bold;background-color: white;display: inline-block;line-height: 1.2em;}#sk-1f29ec46-690a-4fe6-ad90-cdf956a1539e div.sk-label-container {position: relative;z-index: 2;text-align: center;}#sk-1f29ec46-690a-4fe6-ad90-cdf956a1539e div.sk-container {/* jupyter's `normalize.less` sets `[hidden] { display: none; }` but bootstrap.min.css set `[hidden] { display: none !important; }` so we also need the `!important` here to be able to override the default hidden behavior on the sphinx rendered scikit-learn.org. See: https://github.com/scikit-learn/scikit-learn/issues/21755 */display: inline-block !important;position: relative;}#sk-1f29ec46-690a-4fe6-ad90-cdf956a1539e div.sk-text-repr-fallback {display: none;}</style><div id=\"sk-1f29ec46-690a-4fe6-ad90-cdf956a1539e\" class=\"sk-top-container\"><div class=\"sk-text-repr-fallback\"><pre>Pipeline(steps=[(&#x27;text_vect&#x27;, CountVectorizer(max_features=30)),\n",
              "                (&#x27;knn&#x27;, KNeighborsClassifier())])</pre><b>Please rerun this cell to show the HTML repr or trust the notebook.</b></div><div class=\"sk-container\" hidden><div class=\"sk-item sk-dashed-wrapped\"><div class=\"sk-label-container\"><div class=\"sk-label sk-toggleable\"><input class=\"sk-toggleable__control sk-hidden--visually\" id=\"727bbee2-82bc-4acd-be4f-01db0ce24769\" type=\"checkbox\" ><label for=\"727bbee2-82bc-4acd-be4f-01db0ce24769\" class=\"sk-toggleable__label sk-toggleable__label-arrow\">Pipeline</label><div class=\"sk-toggleable__content\"><pre>Pipeline(steps=[(&#x27;text_vect&#x27;, CountVectorizer(max_features=30)),\n",
              "                (&#x27;knn&#x27;, KNeighborsClassifier())])</pre></div></div></div><div class=\"sk-serial\"><div class=\"sk-item\"><div class=\"sk-estimator sk-toggleable\"><input class=\"sk-toggleable__control sk-hidden--visually\" id=\"f8a1d57f-1c06-4f5b-ae1d-19a80ac21a21\" type=\"checkbox\" ><label for=\"f8a1d57f-1c06-4f5b-ae1d-19a80ac21a21\" class=\"sk-toggleable__label sk-toggleable__label-arrow\">CountVectorizer</label><div class=\"sk-toggleable__content\"><pre>CountVectorizer(max_features=30)</pre></div></div></div><div class=\"sk-item\"><div class=\"sk-estimator sk-toggleable\"><input class=\"sk-toggleable__control sk-hidden--visually\" id=\"7bd9a96d-acfa-4d95-b67e-370f0404a00b\" type=\"checkbox\" ><label for=\"7bd9a96d-acfa-4d95-b67e-370f0404a00b\" class=\"sk-toggleable__label sk-toggleable__label-arrow\">KNeighborsClassifier</label><div class=\"sk-toggleable__content\"><pre>KNeighborsClassifier()</pre></div></div></div></div></div></div></div>"
            ]
          },
          "metadata": {},
          "execution_count": 93
        }
      ]
    },
    {
      "cell_type": "code",
      "source": [
        "X_train = train_text_list\n",
        "X_val = val_text_list\n",
        "\n",
        "# Fit the Pipeline to training data\n",
        "pipeline.fit(X_train, y_train.values)"
      ],
      "metadata": {
        "id": "cJU1tYzkh6Wm",
        "outputId": "982111d0-af45-4deb-e1bd-970d74a9606b",
        "colab": {
          "base_uri": "https://localhost:8080/",
          "height": 126
        }
      },
      "execution_count": 94,
      "outputs": [
        {
          "output_type": "execute_result",
          "data": {
            "text/plain": [
              "Pipeline(steps=[('text_vect', CountVectorizer(max_features=30)),\n",
              "                ('knn', KNeighborsClassifier())])"
            ],
            "text/html": [
              "<style>#sk-af9181aa-d2f7-42df-92ae-472ee188cf19 {color: black;background-color: white;}#sk-af9181aa-d2f7-42df-92ae-472ee188cf19 pre{padding: 0;}#sk-af9181aa-d2f7-42df-92ae-472ee188cf19 div.sk-toggleable {background-color: white;}#sk-af9181aa-d2f7-42df-92ae-472ee188cf19 label.sk-toggleable__label {cursor: pointer;display: block;width: 100%;margin-bottom: 0;padding: 0.3em;box-sizing: border-box;text-align: center;}#sk-af9181aa-d2f7-42df-92ae-472ee188cf19 label.sk-toggleable__label-arrow:before {content: \"▸\";float: left;margin-right: 0.25em;color: #696969;}#sk-af9181aa-d2f7-42df-92ae-472ee188cf19 label.sk-toggleable__label-arrow:hover:before {color: black;}#sk-af9181aa-d2f7-42df-92ae-472ee188cf19 div.sk-estimator:hover label.sk-toggleable__label-arrow:before {color: black;}#sk-af9181aa-d2f7-42df-92ae-472ee188cf19 div.sk-toggleable__content {max-height: 0;max-width: 0;overflow: hidden;text-align: left;background-color: #f0f8ff;}#sk-af9181aa-d2f7-42df-92ae-472ee188cf19 div.sk-toggleable__content pre {margin: 0.2em;color: black;border-radius: 0.25em;background-color: #f0f8ff;}#sk-af9181aa-d2f7-42df-92ae-472ee188cf19 input.sk-toggleable__control:checked~div.sk-toggleable__content {max-height: 200px;max-width: 100%;overflow: auto;}#sk-af9181aa-d2f7-42df-92ae-472ee188cf19 input.sk-toggleable__control:checked~label.sk-toggleable__label-arrow:before {content: \"▾\";}#sk-af9181aa-d2f7-42df-92ae-472ee188cf19 div.sk-estimator input.sk-toggleable__control:checked~label.sk-toggleable__label {background-color: #d4ebff;}#sk-af9181aa-d2f7-42df-92ae-472ee188cf19 div.sk-label input.sk-toggleable__control:checked~label.sk-toggleable__label {background-color: #d4ebff;}#sk-af9181aa-d2f7-42df-92ae-472ee188cf19 input.sk-hidden--visually {border: 0;clip: rect(1px 1px 1px 1px);clip: rect(1px, 1px, 1px, 1px);height: 1px;margin: -1px;overflow: hidden;padding: 0;position: absolute;width: 1px;}#sk-af9181aa-d2f7-42df-92ae-472ee188cf19 div.sk-estimator {font-family: monospace;background-color: #f0f8ff;border: 1px dotted black;border-radius: 0.25em;box-sizing: border-box;margin-bottom: 0.5em;}#sk-af9181aa-d2f7-42df-92ae-472ee188cf19 div.sk-estimator:hover {background-color: #d4ebff;}#sk-af9181aa-d2f7-42df-92ae-472ee188cf19 div.sk-parallel-item::after {content: \"\";width: 100%;border-bottom: 1px solid gray;flex-grow: 1;}#sk-af9181aa-d2f7-42df-92ae-472ee188cf19 div.sk-label:hover label.sk-toggleable__label {background-color: #d4ebff;}#sk-af9181aa-d2f7-42df-92ae-472ee188cf19 div.sk-serial::before {content: \"\";position: absolute;border-left: 1px solid gray;box-sizing: border-box;top: 2em;bottom: 0;left: 50%;}#sk-af9181aa-d2f7-42df-92ae-472ee188cf19 div.sk-serial {display: flex;flex-direction: column;align-items: center;background-color: white;padding-right: 0.2em;padding-left: 0.2em;}#sk-af9181aa-d2f7-42df-92ae-472ee188cf19 div.sk-item {z-index: 1;}#sk-af9181aa-d2f7-42df-92ae-472ee188cf19 div.sk-parallel {display: flex;align-items: stretch;justify-content: center;background-color: white;}#sk-af9181aa-d2f7-42df-92ae-472ee188cf19 div.sk-parallel::before {content: \"\";position: absolute;border-left: 1px solid gray;box-sizing: border-box;top: 2em;bottom: 0;left: 50%;}#sk-af9181aa-d2f7-42df-92ae-472ee188cf19 div.sk-parallel-item {display: flex;flex-direction: column;position: relative;background-color: white;}#sk-af9181aa-d2f7-42df-92ae-472ee188cf19 div.sk-parallel-item:first-child::after {align-self: flex-end;width: 50%;}#sk-af9181aa-d2f7-42df-92ae-472ee188cf19 div.sk-parallel-item:last-child::after {align-self: flex-start;width: 50%;}#sk-af9181aa-d2f7-42df-92ae-472ee188cf19 div.sk-parallel-item:only-child::after {width: 0;}#sk-af9181aa-d2f7-42df-92ae-472ee188cf19 div.sk-dashed-wrapped {border: 1px dashed gray;margin: 0 0.4em 0.5em 0.4em;box-sizing: border-box;padding-bottom: 0.4em;background-color: white;position: relative;}#sk-af9181aa-d2f7-42df-92ae-472ee188cf19 div.sk-label label {font-family: monospace;font-weight: bold;background-color: white;display: inline-block;line-height: 1.2em;}#sk-af9181aa-d2f7-42df-92ae-472ee188cf19 div.sk-label-container {position: relative;z-index: 2;text-align: center;}#sk-af9181aa-d2f7-42df-92ae-472ee188cf19 div.sk-container {/* jupyter's `normalize.less` sets `[hidden] { display: none; }` but bootstrap.min.css set `[hidden] { display: none !important; }` so we also need the `!important` here to be able to override the default hidden behavior on the sphinx rendered scikit-learn.org. See: https://github.com/scikit-learn/scikit-learn/issues/21755 */display: inline-block !important;position: relative;}#sk-af9181aa-d2f7-42df-92ae-472ee188cf19 div.sk-text-repr-fallback {display: none;}</style><div id=\"sk-af9181aa-d2f7-42df-92ae-472ee188cf19\" class=\"sk-top-container\"><div class=\"sk-text-repr-fallback\"><pre>Pipeline(steps=[(&#x27;text_vect&#x27;, CountVectorizer(max_features=30)),\n",
              "                (&#x27;knn&#x27;, KNeighborsClassifier())])</pre><b>Please rerun this cell to show the HTML repr or trust the notebook.</b></div><div class=\"sk-container\" hidden><div class=\"sk-item sk-dashed-wrapped\"><div class=\"sk-label-container\"><div class=\"sk-label sk-toggleable\"><input class=\"sk-toggleable__control sk-hidden--visually\" id=\"e865fe3d-b2ff-4187-83b2-4e53dc26e364\" type=\"checkbox\" ><label for=\"e865fe3d-b2ff-4187-83b2-4e53dc26e364\" class=\"sk-toggleable__label sk-toggleable__label-arrow\">Pipeline</label><div class=\"sk-toggleable__content\"><pre>Pipeline(steps=[(&#x27;text_vect&#x27;, CountVectorizer(max_features=30)),\n",
              "                (&#x27;knn&#x27;, KNeighborsClassifier())])</pre></div></div></div><div class=\"sk-serial\"><div class=\"sk-item\"><div class=\"sk-estimator sk-toggleable\"><input class=\"sk-toggleable__control sk-hidden--visually\" id=\"c1492971-8194-4cdd-a0ec-c22060fb1a15\" type=\"checkbox\" ><label for=\"c1492971-8194-4cdd-a0ec-c22060fb1a15\" class=\"sk-toggleable__label sk-toggleable__label-arrow\">CountVectorizer</label><div class=\"sk-toggleable__content\"><pre>CountVectorizer(max_features=30)</pre></div></div></div><div class=\"sk-item\"><div class=\"sk-estimator sk-toggleable\"><input class=\"sk-toggleable__control sk-hidden--visually\" id=\"058820ea-0f68-42d1-8561-1bb24f6c2a00\" type=\"checkbox\" ><label for=\"058820ea-0f68-42d1-8561-1bb24f6c2a00\" class=\"sk-toggleable__label sk-toggleable__label-arrow\">KNeighborsClassifier</label><div class=\"sk-toggleable__content\"><pre>KNeighborsClassifier()</pre></div></div></div></div></div></div></div>"
            ]
          },
          "metadata": {},
          "execution_count": 94
        }
      ]
    },
    {
      "cell_type": "code",
      "source": [
        "from sklearn.metrics import confusion_matrix, classification_report, accuracy_score\n",
        "\n",
        "# Use the fitted pipeline to make predictions on the validation dataset\n",
        "val_predictions = pipeline.predict(X_val)\n",
        "print(confusion_matrix(y_val.values, val_predictions))\n",
        "print(classification_report(y_val.values, val_predictions))\n",
        "print(\"Accuracy (validation):\", accuracy_score(y_val.values, val_predictions))"
      ],
      "metadata": {
        "id": "YIEjtVK-h81n",
        "outputId": "2aed75c8-daab-4281-8fa0-12a408c02791",
        "colab": {
          "base_uri": "https://localhost:8080/"
        }
      },
      "execution_count": 95,
      "outputs": [
        {
          "output_type": "stream",
          "name": "stdout",
          "text": [
            "[[782 498]\n",
            " [444 776]]\n",
            "              precision    recall  f1-score   support\n",
            "\n",
            "           0       0.64      0.61      0.62      1280\n",
            "           1       0.61      0.64      0.62      1220\n",
            "\n",
            "    accuracy                           0.62      2500\n",
            "   macro avg       0.62      0.62      0.62      2500\n",
            "weighted avg       0.62      0.62      0.62      2500\n",
            "\n",
            "Accuracy (validation): 0.6232\n"
          ]
        }
      ]
    },
    {
      "cell_type": "markdown",
      "metadata": {
        "id": "rieXB-QtPcHq"
      },
      "source": [
        "## 3. Make predictions on your test dataset\n",
        "\n",
        "Once we select our best performing model, we can use it to make predictions on the test dataset. You can simply use __.fit()__ function with your training data to use the best performing K value and use __.predict()__ with your test data to get your test predictions."
      ]
    },
    {
      "cell_type": "code",
      "execution_count": 111,
      "metadata": {
        "id": "BssNQEfAPcHq",
        "outputId": "92e037ce-8b98-414f-942b-447c28663ad4",
        "colab": {
          "base_uri": "https://localhost:8080/"
        }
      },
      "outputs": [
        {
          "output_type": "execute_result",
          "data": {
            "text/plain": [
              "0    12500\n",
              "1    12500\n",
              "Name: label, dtype: int64"
            ]
          },
          "metadata": {},
          "execution_count": 111
        }
      ],
      "source": [
        "# Implement this\n",
        "from sklearn.neighbors import KNeighborsClassifier\n",
        "\n",
        "test_df[\"label\"].value_counts()"
      ]
    },
    {
      "cell_type": "code",
      "source": [
        "from sklearn.model_selection import train_test_split\n",
        "\n",
        "X=test_df[[\"text\"]]\n",
        "Y=test_df[\"label\"]\n",
        "X_train, X_val, y_train, y_val = train_test_split(X,\n",
        "                                                  Y,\n",
        "                                                  test_size=0.10,\n",
        "                                                  shuffle=True,\n",
        "                                                  random_state=324\n",
        "                                                 )"
      ],
      "metadata": {
        "id": "E_NHllWJrcwv"
      },
      "execution_count": 112,
      "outputs": []
    },
    {
      "cell_type": "code",
      "source": [
        "print(\"Processing the text fields\")\n",
        "test_text_list = process_text(X_train[\"text\"].tolist())\n",
        "val_text_list = process_text(X_val[\"text\"].tolist())"
      ],
      "metadata": {
        "id": "-F6KL5VJrlng",
        "outputId": "33ac17e5-ad02-4a31-dfab-a7bf7d5de369",
        "colab": {
          "base_uri": "https://localhost:8080/"
        }
      },
      "execution_count": 113,
      "outputs": [
        {
          "output_type": "stream",
          "name": "stdout",
          "text": [
            "Processing the text fields\n"
          ]
        }
      ]
    },
    {
      "cell_type": "code",
      "source": [
        "from sklearn.pipeline import Pipeline\n",
        "from sklearn.feature_extraction.text import CountVectorizer\n",
        "from sklearn.feature_extraction.text import TfidfVectorizer\n",
        "from sklearn.neighbors import KNeighborsClassifier\n",
        "\n",
        "\n",
        "import gensim\n",
        "from gensim.models import Word2Vec\n",
        "### PIPELINE ###\n",
        "##########################\n",
        "w2v = gensim.models.Word2Vec()\n",
        "pipeline = Pipeline([\n",
        "    ('text_vect', CountVectorizer(binary=False,\n",
        "    #( 'text_vect', TfidfVectorizer(use_idf=True,\n",
        "                                  max_features=15)),\n",
        "    ('knn', KNeighborsClassifier())  \n",
        "                                ])\n",
        "\n",
        "\n",
        "# Visualize the pipeline\n",
        "# This will come in handy especially when building more complex pipelines, stringing together multiple preprocessing steps\n",
        "from sklearn import set_config\n",
        "set_config(display='diagram')\n",
        "pipeline"
      ],
      "metadata": {
        "id": "H-Eob15u00K5",
        "outputId": "3e5a900c-0cc6-4536-9481-94af50c60481",
        "colab": {
          "base_uri": "https://localhost:8080/",
          "height": 126
        }
      },
      "execution_count": 142,
      "outputs": [
        {
          "output_type": "execute_result",
          "data": {
            "text/plain": [
              "Pipeline(steps=[('text_vect', CountVectorizer(max_features=15)),\n",
              "                ('knn', KNeighborsClassifier())])"
            ],
            "text/html": [
              "<style>#sk-eada7592-0f2a-4547-a8bb-477d177b2e78 {color: black;background-color: white;}#sk-eada7592-0f2a-4547-a8bb-477d177b2e78 pre{padding: 0;}#sk-eada7592-0f2a-4547-a8bb-477d177b2e78 div.sk-toggleable {background-color: white;}#sk-eada7592-0f2a-4547-a8bb-477d177b2e78 label.sk-toggleable__label {cursor: pointer;display: block;width: 100%;margin-bottom: 0;padding: 0.3em;box-sizing: border-box;text-align: center;}#sk-eada7592-0f2a-4547-a8bb-477d177b2e78 label.sk-toggleable__label-arrow:before {content: \"▸\";float: left;margin-right: 0.25em;color: #696969;}#sk-eada7592-0f2a-4547-a8bb-477d177b2e78 label.sk-toggleable__label-arrow:hover:before {color: black;}#sk-eada7592-0f2a-4547-a8bb-477d177b2e78 div.sk-estimator:hover label.sk-toggleable__label-arrow:before {color: black;}#sk-eada7592-0f2a-4547-a8bb-477d177b2e78 div.sk-toggleable__content {max-height: 0;max-width: 0;overflow: hidden;text-align: left;background-color: #f0f8ff;}#sk-eada7592-0f2a-4547-a8bb-477d177b2e78 div.sk-toggleable__content pre {margin: 0.2em;color: black;border-radius: 0.25em;background-color: #f0f8ff;}#sk-eada7592-0f2a-4547-a8bb-477d177b2e78 input.sk-toggleable__control:checked~div.sk-toggleable__content {max-height: 200px;max-width: 100%;overflow: auto;}#sk-eada7592-0f2a-4547-a8bb-477d177b2e78 input.sk-toggleable__control:checked~label.sk-toggleable__label-arrow:before {content: \"▾\";}#sk-eada7592-0f2a-4547-a8bb-477d177b2e78 div.sk-estimator input.sk-toggleable__control:checked~label.sk-toggleable__label {background-color: #d4ebff;}#sk-eada7592-0f2a-4547-a8bb-477d177b2e78 div.sk-label input.sk-toggleable__control:checked~label.sk-toggleable__label {background-color: #d4ebff;}#sk-eada7592-0f2a-4547-a8bb-477d177b2e78 input.sk-hidden--visually {border: 0;clip: rect(1px 1px 1px 1px);clip: rect(1px, 1px, 1px, 1px);height: 1px;margin: -1px;overflow: hidden;padding: 0;position: absolute;width: 1px;}#sk-eada7592-0f2a-4547-a8bb-477d177b2e78 div.sk-estimator {font-family: monospace;background-color: #f0f8ff;border: 1px dotted black;border-radius: 0.25em;box-sizing: border-box;margin-bottom: 0.5em;}#sk-eada7592-0f2a-4547-a8bb-477d177b2e78 div.sk-estimator:hover {background-color: #d4ebff;}#sk-eada7592-0f2a-4547-a8bb-477d177b2e78 div.sk-parallel-item::after {content: \"\";width: 100%;border-bottom: 1px solid gray;flex-grow: 1;}#sk-eada7592-0f2a-4547-a8bb-477d177b2e78 div.sk-label:hover label.sk-toggleable__label {background-color: #d4ebff;}#sk-eada7592-0f2a-4547-a8bb-477d177b2e78 div.sk-serial::before {content: \"\";position: absolute;border-left: 1px solid gray;box-sizing: border-box;top: 2em;bottom: 0;left: 50%;}#sk-eada7592-0f2a-4547-a8bb-477d177b2e78 div.sk-serial {display: flex;flex-direction: column;align-items: center;background-color: white;padding-right: 0.2em;padding-left: 0.2em;}#sk-eada7592-0f2a-4547-a8bb-477d177b2e78 div.sk-item {z-index: 1;}#sk-eada7592-0f2a-4547-a8bb-477d177b2e78 div.sk-parallel {display: flex;align-items: stretch;justify-content: center;background-color: white;}#sk-eada7592-0f2a-4547-a8bb-477d177b2e78 div.sk-parallel::before {content: \"\";position: absolute;border-left: 1px solid gray;box-sizing: border-box;top: 2em;bottom: 0;left: 50%;}#sk-eada7592-0f2a-4547-a8bb-477d177b2e78 div.sk-parallel-item {display: flex;flex-direction: column;position: relative;background-color: white;}#sk-eada7592-0f2a-4547-a8bb-477d177b2e78 div.sk-parallel-item:first-child::after {align-self: flex-end;width: 50%;}#sk-eada7592-0f2a-4547-a8bb-477d177b2e78 div.sk-parallel-item:last-child::after {align-self: flex-start;width: 50%;}#sk-eada7592-0f2a-4547-a8bb-477d177b2e78 div.sk-parallel-item:only-child::after {width: 0;}#sk-eada7592-0f2a-4547-a8bb-477d177b2e78 div.sk-dashed-wrapped {border: 1px dashed gray;margin: 0 0.4em 0.5em 0.4em;box-sizing: border-box;padding-bottom: 0.4em;background-color: white;position: relative;}#sk-eada7592-0f2a-4547-a8bb-477d177b2e78 div.sk-label label {font-family: monospace;font-weight: bold;background-color: white;display: inline-block;line-height: 1.2em;}#sk-eada7592-0f2a-4547-a8bb-477d177b2e78 div.sk-label-container {position: relative;z-index: 2;text-align: center;}#sk-eada7592-0f2a-4547-a8bb-477d177b2e78 div.sk-container {/* jupyter's `normalize.less` sets `[hidden] { display: none; }` but bootstrap.min.css set `[hidden] { display: none !important; }` so we also need the `!important` here to be able to override the default hidden behavior on the sphinx rendered scikit-learn.org. See: https://github.com/scikit-learn/scikit-learn/issues/21755 */display: inline-block !important;position: relative;}#sk-eada7592-0f2a-4547-a8bb-477d177b2e78 div.sk-text-repr-fallback {display: none;}</style><div id=\"sk-eada7592-0f2a-4547-a8bb-477d177b2e78\" class=\"sk-top-container\"><div class=\"sk-text-repr-fallback\"><pre>Pipeline(steps=[(&#x27;text_vect&#x27;, CountVectorizer(max_features=15)),\n",
              "                (&#x27;knn&#x27;, KNeighborsClassifier())])</pre><b>Please rerun this cell to show the HTML repr or trust the notebook.</b></div><div class=\"sk-container\" hidden><div class=\"sk-item sk-dashed-wrapped\"><div class=\"sk-label-container\"><div class=\"sk-label sk-toggleable\"><input class=\"sk-toggleable__control sk-hidden--visually\" id=\"9f380846-d6b4-4d55-b7a2-cf93593a9f37\" type=\"checkbox\" ><label for=\"9f380846-d6b4-4d55-b7a2-cf93593a9f37\" class=\"sk-toggleable__label sk-toggleable__label-arrow\">Pipeline</label><div class=\"sk-toggleable__content\"><pre>Pipeline(steps=[(&#x27;text_vect&#x27;, CountVectorizer(max_features=15)),\n",
              "                (&#x27;knn&#x27;, KNeighborsClassifier())])</pre></div></div></div><div class=\"sk-serial\"><div class=\"sk-item\"><div class=\"sk-estimator sk-toggleable\"><input class=\"sk-toggleable__control sk-hidden--visually\" id=\"6b8fa1b3-a1d5-4b6f-8887-2d3c9a100c8e\" type=\"checkbox\" ><label for=\"6b8fa1b3-a1d5-4b6f-8887-2d3c9a100c8e\" class=\"sk-toggleable__label sk-toggleable__label-arrow\">CountVectorizer</label><div class=\"sk-toggleable__content\"><pre>CountVectorizer(max_features=15)</pre></div></div></div><div class=\"sk-item\"><div class=\"sk-estimator sk-toggleable\"><input class=\"sk-toggleable__control sk-hidden--visually\" id=\"c66da10a-6312-488f-a55c-ad03825e697b\" type=\"checkbox\" ><label for=\"c66da10a-6312-488f-a55c-ad03825e697b\" class=\"sk-toggleable__label sk-toggleable__label-arrow\">KNeighborsClassifier</label><div class=\"sk-toggleable__content\"><pre>KNeighborsClassifier()</pre></div></div></div></div></div></div></div>"
            ]
          },
          "metadata": {},
          "execution_count": 142
        }
      ]
    },
    {
      "cell_type": "code",
      "source": [
        "X_train = train_text_list\n",
        "X_val = val_text_list\n",
        "\n",
        "# Fit the Pipeline to training data\n",
        "pipeline.fit(X_train, y_train.values)"
      ],
      "metadata": {
        "id": "HSHEQWPksEP4",
        "outputId": "cbde2939-7427-4678-b5cd-7b6782032686",
        "colab": {
          "base_uri": "https://localhost:8080/",
          "height": 126
        }
      },
      "execution_count": 143,
      "outputs": [
        {
          "output_type": "execute_result",
          "data": {
            "text/plain": [
              "Pipeline(steps=[('text_vect', CountVectorizer(max_features=15)),\n",
              "                ('knn', KNeighborsClassifier())])"
            ],
            "text/html": [
              "<style>#sk-0497befb-0d22-4b7f-a714-6b651b980008 {color: black;background-color: white;}#sk-0497befb-0d22-4b7f-a714-6b651b980008 pre{padding: 0;}#sk-0497befb-0d22-4b7f-a714-6b651b980008 div.sk-toggleable {background-color: white;}#sk-0497befb-0d22-4b7f-a714-6b651b980008 label.sk-toggleable__label {cursor: pointer;display: block;width: 100%;margin-bottom: 0;padding: 0.3em;box-sizing: border-box;text-align: center;}#sk-0497befb-0d22-4b7f-a714-6b651b980008 label.sk-toggleable__label-arrow:before {content: \"▸\";float: left;margin-right: 0.25em;color: #696969;}#sk-0497befb-0d22-4b7f-a714-6b651b980008 label.sk-toggleable__label-arrow:hover:before {color: black;}#sk-0497befb-0d22-4b7f-a714-6b651b980008 div.sk-estimator:hover label.sk-toggleable__label-arrow:before {color: black;}#sk-0497befb-0d22-4b7f-a714-6b651b980008 div.sk-toggleable__content {max-height: 0;max-width: 0;overflow: hidden;text-align: left;background-color: #f0f8ff;}#sk-0497befb-0d22-4b7f-a714-6b651b980008 div.sk-toggleable__content pre {margin: 0.2em;color: black;border-radius: 0.25em;background-color: #f0f8ff;}#sk-0497befb-0d22-4b7f-a714-6b651b980008 input.sk-toggleable__control:checked~div.sk-toggleable__content {max-height: 200px;max-width: 100%;overflow: auto;}#sk-0497befb-0d22-4b7f-a714-6b651b980008 input.sk-toggleable__control:checked~label.sk-toggleable__label-arrow:before {content: \"▾\";}#sk-0497befb-0d22-4b7f-a714-6b651b980008 div.sk-estimator input.sk-toggleable__control:checked~label.sk-toggleable__label {background-color: #d4ebff;}#sk-0497befb-0d22-4b7f-a714-6b651b980008 div.sk-label input.sk-toggleable__control:checked~label.sk-toggleable__label {background-color: #d4ebff;}#sk-0497befb-0d22-4b7f-a714-6b651b980008 input.sk-hidden--visually {border: 0;clip: rect(1px 1px 1px 1px);clip: rect(1px, 1px, 1px, 1px);height: 1px;margin: -1px;overflow: hidden;padding: 0;position: absolute;width: 1px;}#sk-0497befb-0d22-4b7f-a714-6b651b980008 div.sk-estimator {font-family: monospace;background-color: #f0f8ff;border: 1px dotted black;border-radius: 0.25em;box-sizing: border-box;margin-bottom: 0.5em;}#sk-0497befb-0d22-4b7f-a714-6b651b980008 div.sk-estimator:hover {background-color: #d4ebff;}#sk-0497befb-0d22-4b7f-a714-6b651b980008 div.sk-parallel-item::after {content: \"\";width: 100%;border-bottom: 1px solid gray;flex-grow: 1;}#sk-0497befb-0d22-4b7f-a714-6b651b980008 div.sk-label:hover label.sk-toggleable__label {background-color: #d4ebff;}#sk-0497befb-0d22-4b7f-a714-6b651b980008 div.sk-serial::before {content: \"\";position: absolute;border-left: 1px solid gray;box-sizing: border-box;top: 2em;bottom: 0;left: 50%;}#sk-0497befb-0d22-4b7f-a714-6b651b980008 div.sk-serial {display: flex;flex-direction: column;align-items: center;background-color: white;padding-right: 0.2em;padding-left: 0.2em;}#sk-0497befb-0d22-4b7f-a714-6b651b980008 div.sk-item {z-index: 1;}#sk-0497befb-0d22-4b7f-a714-6b651b980008 div.sk-parallel {display: flex;align-items: stretch;justify-content: center;background-color: white;}#sk-0497befb-0d22-4b7f-a714-6b651b980008 div.sk-parallel::before {content: \"\";position: absolute;border-left: 1px solid gray;box-sizing: border-box;top: 2em;bottom: 0;left: 50%;}#sk-0497befb-0d22-4b7f-a714-6b651b980008 div.sk-parallel-item {display: flex;flex-direction: column;position: relative;background-color: white;}#sk-0497befb-0d22-4b7f-a714-6b651b980008 div.sk-parallel-item:first-child::after {align-self: flex-end;width: 50%;}#sk-0497befb-0d22-4b7f-a714-6b651b980008 div.sk-parallel-item:last-child::after {align-self: flex-start;width: 50%;}#sk-0497befb-0d22-4b7f-a714-6b651b980008 div.sk-parallel-item:only-child::after {width: 0;}#sk-0497befb-0d22-4b7f-a714-6b651b980008 div.sk-dashed-wrapped {border: 1px dashed gray;margin: 0 0.4em 0.5em 0.4em;box-sizing: border-box;padding-bottom: 0.4em;background-color: white;position: relative;}#sk-0497befb-0d22-4b7f-a714-6b651b980008 div.sk-label label {font-family: monospace;font-weight: bold;background-color: white;display: inline-block;line-height: 1.2em;}#sk-0497befb-0d22-4b7f-a714-6b651b980008 div.sk-label-container {position: relative;z-index: 2;text-align: center;}#sk-0497befb-0d22-4b7f-a714-6b651b980008 div.sk-container {/* jupyter's `normalize.less` sets `[hidden] { display: none; }` but bootstrap.min.css set `[hidden] { display: none !important; }` so we also need the `!important` here to be able to override the default hidden behavior on the sphinx rendered scikit-learn.org. See: https://github.com/scikit-learn/scikit-learn/issues/21755 */display: inline-block !important;position: relative;}#sk-0497befb-0d22-4b7f-a714-6b651b980008 div.sk-text-repr-fallback {display: none;}</style><div id=\"sk-0497befb-0d22-4b7f-a714-6b651b980008\" class=\"sk-top-container\"><div class=\"sk-text-repr-fallback\"><pre>Pipeline(steps=[(&#x27;text_vect&#x27;, CountVectorizer(max_features=15)),\n",
              "                (&#x27;knn&#x27;, KNeighborsClassifier())])</pre><b>Please rerun this cell to show the HTML repr or trust the notebook.</b></div><div class=\"sk-container\" hidden><div class=\"sk-item sk-dashed-wrapped\"><div class=\"sk-label-container\"><div class=\"sk-label sk-toggleable\"><input class=\"sk-toggleable__control sk-hidden--visually\" id=\"569dd3e3-26b0-4006-afc4-65aaf5342397\" type=\"checkbox\" ><label for=\"569dd3e3-26b0-4006-afc4-65aaf5342397\" class=\"sk-toggleable__label sk-toggleable__label-arrow\">Pipeline</label><div class=\"sk-toggleable__content\"><pre>Pipeline(steps=[(&#x27;text_vect&#x27;, CountVectorizer(max_features=15)),\n",
              "                (&#x27;knn&#x27;, KNeighborsClassifier())])</pre></div></div></div><div class=\"sk-serial\"><div class=\"sk-item\"><div class=\"sk-estimator sk-toggleable\"><input class=\"sk-toggleable__control sk-hidden--visually\" id=\"7cf70bea-d20e-4f68-b23f-786418b73a06\" type=\"checkbox\" ><label for=\"7cf70bea-d20e-4f68-b23f-786418b73a06\" class=\"sk-toggleable__label sk-toggleable__label-arrow\">CountVectorizer</label><div class=\"sk-toggleable__content\"><pre>CountVectorizer(max_features=15)</pre></div></div></div><div class=\"sk-item\"><div class=\"sk-estimator sk-toggleable\"><input class=\"sk-toggleable__control sk-hidden--visually\" id=\"c9f646c9-c2ba-4eb9-9329-985dad0717f6\" type=\"checkbox\" ><label for=\"c9f646c9-c2ba-4eb9-9329-985dad0717f6\" class=\"sk-toggleable__label sk-toggleable__label-arrow\">KNeighborsClassifier</label><div class=\"sk-toggleable__content\"><pre>KNeighborsClassifier()</pre></div></div></div></div></div></div></div>"
            ]
          },
          "metadata": {},
          "execution_count": 143
        }
      ]
    },
    {
      "cell_type": "code",
      "source": [
        "from sklearn.metrics import confusion_matrix, classification_report, accuracy_score\n",
        "\n",
        "# Use the fitted pipeline to make predictions on the validation dataset\n",
        "val_predictions = pipeline.predict(X_val)\n",
        "print(confusion_matrix(y_val.values, val_predictions))\n",
        "print(classification_report(y_val.values, val_predictions))\n",
        "print(\"Accuracy (validation):\", accuracy_score(y_val.values, val_predictions))"
      ],
      "metadata": {
        "id": "1nPC3KGmsJqZ",
        "outputId": "e856ef79-5609-410c-d099-f46592984f32",
        "colab": {
          "base_uri": "https://localhost:8080/"
        }
      },
      "execution_count": 144,
      "outputs": [
        {
          "output_type": "stream",
          "name": "stdout",
          "text": [
            "[[639 633]\n",
            " [568 660]]\n",
            "              precision    recall  f1-score   support\n",
            "\n",
            "           0       0.53      0.50      0.52      1272\n",
            "           1       0.51      0.54      0.52      1228\n",
            "\n",
            "    accuracy                           0.52      2500\n",
            "   macro avg       0.52      0.52      0.52      2500\n",
            "weighted avg       0.52      0.52      0.52      2500\n",
            "\n",
            "Accuracy (validation): 0.5196\n"
          ]
        }
      ]
    }
  ],
  "metadata": {
    "kernelspec": {
      "display_name": "conda_python3",
      "language": "python",
      "name": "conda_python3"
    },
    "language_info": {
      "codemirror_mode": {
        "name": "ipython",
        "version": 3
      },
      "file_extension": ".py",
      "mimetype": "text/x-python",
      "name": "python",
      "nbconvert_exporter": "python",
      "pygments_lexer": "ipython3",
      "version": "3.6.13"
    },
    "colab": {
      "provenance": []
    }
  },
  "nbformat": 4,
  "nbformat_minor": 0
}