{
  "nbformat": 4,
  "nbformat_minor": 0,
  "metadata": {
    "colab": {
      "provenance": [],
      "authorship_tag": "ABX9TyPlRUuWI6O99NhS4c6z44XF",
      "include_colab_link": true
    },
    "kernelspec": {
      "name": "python3",
      "display_name": "Python 3"
    },
    "language_info": {
      "name": "python"
    }
  },
  "cells": [
    {
      "cell_type": "markdown",
      "metadata": {
        "id": "view-in-github",
        "colab_type": "text"
      },
      "source": [
        "<a href=\"https://colab.research.google.com/github/dylanoreilly1/final-year/blob/main/Milestone1.ipynb\" target=\"_parent\"><img src=\"https://colab.research.google.com/assets/colab-badge.svg\" alt=\"Open In Colab\"/></a>"
      ]
    },
    {
      "cell_type": "code",
      "execution_count": 25,
      "metadata": {
        "colab": {
          "base_uri": "https://localhost:8080/",
          "height": 488
        },
        "id": "orJdfwHAT7vz",
        "outputId": "b7ba10d5-1216-4d44-b578-2349f971e430"
      },
      "outputs": [
        {
          "output_type": "execute_result",
          "data": {
            "text/plain": [
              "        Age  Sex  HighChol  CholCheck   BMI  Smoker  HeartDiseaseorAttack  \\\n",
              "0       4.0  1.0       0.0        1.0  26.0     0.0                   0.0   \n",
              "1      12.0  1.0       1.0        1.0  26.0     1.0                   0.0   \n",
              "2      13.0  1.0       0.0        1.0  26.0     0.0                   0.0   \n",
              "3      11.0  1.0       1.0        1.0  28.0     1.0                   0.0   \n",
              "4       8.0  0.0       0.0        1.0  29.0     1.0                   0.0   \n",
              "...     ...  ...       ...        ...   ...     ...                   ...   \n",
              "70687   6.0  0.0       1.0        1.0  37.0     0.0                   0.0   \n",
              "70688  10.0  1.0       1.0        1.0  29.0     1.0                   1.0   \n",
              "70689  13.0  0.0       1.0        1.0  25.0     0.0                   1.0   \n",
              "70690  11.0  0.0       1.0        1.0  18.0     0.0                   0.0   \n",
              "70691   9.0  0.0       1.0        1.0  25.0     0.0                   1.0   \n",
              "\n",
              "       PhysActivity  Fruits  Veggies  HvyAlcoholConsump  GenHlth  MentHlth  \\\n",
              "0               1.0     0.0      1.0                0.0      3.0       5.0   \n",
              "1               0.0     1.0      0.0                0.0      3.0       0.0   \n",
              "2               1.0     1.0      1.0                0.0      1.0       0.0   \n",
              "3               1.0     1.0      1.0                0.0      3.0       0.0   \n",
              "4               1.0     1.0      1.0                0.0      2.0       0.0   \n",
              "...             ...     ...      ...                ...      ...       ...   \n",
              "70687           0.0     0.0      1.0                0.0      4.0       0.0   \n",
              "70688           0.0     1.0      1.0                0.0      2.0       0.0   \n",
              "70689           0.0     1.0      0.0                0.0      5.0      15.0   \n",
              "70690           0.0     0.0      0.0                0.0      4.0       0.0   \n",
              "70691           1.0     1.0      0.0                0.0      2.0       0.0   \n",
              "\n",
              "       PhysHlth  DiffWalk  Diabetes  Hypertension  Stroke  \n",
              "0          30.0       0.0       0.0           1.0     0.0  \n",
              "1           0.0       0.0       0.0           1.0     1.0  \n",
              "2          10.0       0.0       0.0           0.0     0.0  \n",
              "3           3.0       0.0       0.0           1.0     0.0  \n",
              "4           0.0       0.0       0.0           0.0     0.0  \n",
              "...         ...       ...       ...           ...     ...  \n",
              "70687       0.0       0.0       1.0           0.0     0.0  \n",
              "70688       0.0       1.0       1.0           0.0     0.0  \n",
              "70689       0.0       1.0       1.0           1.0     0.0  \n",
              "70690       0.0       1.0       1.0           1.0     0.0  \n",
              "70691       0.0       0.0       1.0           1.0     0.0  \n",
              "\n",
              "[70692 rows x 18 columns]"
            ],
            "text/html": [
              "\n",
              "  <div id=\"df-712d35f9-83ab-4bed-9d7c-f6c0e414f7ee\">\n",
              "    <div class=\"colab-df-container\">\n",
              "      <div>\n",
              "<style scoped>\n",
              "    .dataframe tbody tr th:only-of-type {\n",
              "        vertical-align: middle;\n",
              "    }\n",
              "\n",
              "    .dataframe tbody tr th {\n",
              "        vertical-align: top;\n",
              "    }\n",
              "\n",
              "    .dataframe thead th {\n",
              "        text-align: right;\n",
              "    }\n",
              "</style>\n",
              "<table border=\"1\" class=\"dataframe\">\n",
              "  <thead>\n",
              "    <tr style=\"text-align: right;\">\n",
              "      <th></th>\n",
              "      <th>Age</th>\n",
              "      <th>Sex</th>\n",
              "      <th>HighChol</th>\n",
              "      <th>CholCheck</th>\n",
              "      <th>BMI</th>\n",
              "      <th>Smoker</th>\n",
              "      <th>HeartDiseaseorAttack</th>\n",
              "      <th>PhysActivity</th>\n",
              "      <th>Fruits</th>\n",
              "      <th>Veggies</th>\n",
              "      <th>HvyAlcoholConsump</th>\n",
              "      <th>GenHlth</th>\n",
              "      <th>MentHlth</th>\n",
              "      <th>PhysHlth</th>\n",
              "      <th>DiffWalk</th>\n",
              "      <th>Diabetes</th>\n",
              "      <th>Hypertension</th>\n",
              "      <th>Stroke</th>\n",
              "    </tr>\n",
              "  </thead>\n",
              "  <tbody>\n",
              "    <tr>\n",
              "      <th>0</th>\n",
              "      <td>4.0</td>\n",
              "      <td>1.0</td>\n",
              "      <td>0.0</td>\n",
              "      <td>1.0</td>\n",
              "      <td>26.0</td>\n",
              "      <td>0.0</td>\n",
              "      <td>0.0</td>\n",
              "      <td>1.0</td>\n",
              "      <td>0.0</td>\n",
              "      <td>1.0</td>\n",
              "      <td>0.0</td>\n",
              "      <td>3.0</td>\n",
              "      <td>5.0</td>\n",
              "      <td>30.0</td>\n",
              "      <td>0.0</td>\n",
              "      <td>0.0</td>\n",
              "      <td>1.0</td>\n",
              "      <td>0.0</td>\n",
              "    </tr>\n",
              "    <tr>\n",
              "      <th>1</th>\n",
              "      <td>12.0</td>\n",
              "      <td>1.0</td>\n",
              "      <td>1.0</td>\n",
              "      <td>1.0</td>\n",
              "      <td>26.0</td>\n",
              "      <td>1.0</td>\n",
              "      <td>0.0</td>\n",
              "      <td>0.0</td>\n",
              "      <td>1.0</td>\n",
              "      <td>0.0</td>\n",
              "      <td>0.0</td>\n",
              "      <td>3.0</td>\n",
              "      <td>0.0</td>\n",
              "      <td>0.0</td>\n",
              "      <td>0.0</td>\n",
              "      <td>0.0</td>\n",
              "      <td>1.0</td>\n",
              "      <td>1.0</td>\n",
              "    </tr>\n",
              "    <tr>\n",
              "      <th>2</th>\n",
              "      <td>13.0</td>\n",
              "      <td>1.0</td>\n",
              "      <td>0.0</td>\n",
              "      <td>1.0</td>\n",
              "      <td>26.0</td>\n",
              "      <td>0.0</td>\n",
              "      <td>0.0</td>\n",
              "      <td>1.0</td>\n",
              "      <td>1.0</td>\n",
              "      <td>1.0</td>\n",
              "      <td>0.0</td>\n",
              "      <td>1.0</td>\n",
              "      <td>0.0</td>\n",
              "      <td>10.0</td>\n",
              "      <td>0.0</td>\n",
              "      <td>0.0</td>\n",
              "      <td>0.0</td>\n",
              "      <td>0.0</td>\n",
              "    </tr>\n",
              "    <tr>\n",
              "      <th>3</th>\n",
              "      <td>11.0</td>\n",
              "      <td>1.0</td>\n",
              "      <td>1.0</td>\n",
              "      <td>1.0</td>\n",
              "      <td>28.0</td>\n",
              "      <td>1.0</td>\n",
              "      <td>0.0</td>\n",
              "      <td>1.0</td>\n",
              "      <td>1.0</td>\n",
              "      <td>1.0</td>\n",
              "      <td>0.0</td>\n",
              "      <td>3.0</td>\n",
              "      <td>0.0</td>\n",
              "      <td>3.0</td>\n",
              "      <td>0.0</td>\n",
              "      <td>0.0</td>\n",
              "      <td>1.0</td>\n",
              "      <td>0.0</td>\n",
              "    </tr>\n",
              "    <tr>\n",
              "      <th>4</th>\n",
              "      <td>8.0</td>\n",
              "      <td>0.0</td>\n",
              "      <td>0.0</td>\n",
              "      <td>1.0</td>\n",
              "      <td>29.0</td>\n",
              "      <td>1.0</td>\n",
              "      <td>0.0</td>\n",
              "      <td>1.0</td>\n",
              "      <td>1.0</td>\n",
              "      <td>1.0</td>\n",
              "      <td>0.0</td>\n",
              "      <td>2.0</td>\n",
              "      <td>0.0</td>\n",
              "      <td>0.0</td>\n",
              "      <td>0.0</td>\n",
              "      <td>0.0</td>\n",
              "      <td>0.0</td>\n",
              "      <td>0.0</td>\n",
              "    </tr>\n",
              "    <tr>\n",
              "      <th>...</th>\n",
              "      <td>...</td>\n",
              "      <td>...</td>\n",
              "      <td>...</td>\n",
              "      <td>...</td>\n",
              "      <td>...</td>\n",
              "      <td>...</td>\n",
              "      <td>...</td>\n",
              "      <td>...</td>\n",
              "      <td>...</td>\n",
              "      <td>...</td>\n",
              "      <td>...</td>\n",
              "      <td>...</td>\n",
              "      <td>...</td>\n",
              "      <td>...</td>\n",
              "      <td>...</td>\n",
              "      <td>...</td>\n",
              "      <td>...</td>\n",
              "      <td>...</td>\n",
              "    </tr>\n",
              "    <tr>\n",
              "      <th>70687</th>\n",
              "      <td>6.0</td>\n",
              "      <td>0.0</td>\n",
              "      <td>1.0</td>\n",
              "      <td>1.0</td>\n",
              "      <td>37.0</td>\n",
              "      <td>0.0</td>\n",
              "      <td>0.0</td>\n",
              "      <td>0.0</td>\n",
              "      <td>0.0</td>\n",
              "      <td>1.0</td>\n",
              "      <td>0.0</td>\n",
              "      <td>4.0</td>\n",
              "      <td>0.0</td>\n",
              "      <td>0.0</td>\n",
              "      <td>0.0</td>\n",
              "      <td>1.0</td>\n",
              "      <td>0.0</td>\n",
              "      <td>0.0</td>\n",
              "    </tr>\n",
              "    <tr>\n",
              "      <th>70688</th>\n",
              "      <td>10.0</td>\n",
              "      <td>1.0</td>\n",
              "      <td>1.0</td>\n",
              "      <td>1.0</td>\n",
              "      <td>29.0</td>\n",
              "      <td>1.0</td>\n",
              "      <td>1.0</td>\n",
              "      <td>0.0</td>\n",
              "      <td>1.0</td>\n",
              "      <td>1.0</td>\n",
              "      <td>0.0</td>\n",
              "      <td>2.0</td>\n",
              "      <td>0.0</td>\n",
              "      <td>0.0</td>\n",
              "      <td>1.0</td>\n",
              "      <td>1.0</td>\n",
              "      <td>0.0</td>\n",
              "      <td>0.0</td>\n",
              "    </tr>\n",
              "    <tr>\n",
              "      <th>70689</th>\n",
              "      <td>13.0</td>\n",
              "      <td>0.0</td>\n",
              "      <td>1.0</td>\n",
              "      <td>1.0</td>\n",
              "      <td>25.0</td>\n",
              "      <td>0.0</td>\n",
              "      <td>1.0</td>\n",
              "      <td>0.0</td>\n",
              "      <td>1.0</td>\n",
              "      <td>0.0</td>\n",
              "      <td>0.0</td>\n",
              "      <td>5.0</td>\n",
              "      <td>15.0</td>\n",
              "      <td>0.0</td>\n",
              "      <td>1.0</td>\n",
              "      <td>1.0</td>\n",
              "      <td>1.0</td>\n",
              "      <td>0.0</td>\n",
              "    </tr>\n",
              "    <tr>\n",
              "      <th>70690</th>\n",
              "      <td>11.0</td>\n",
              "      <td>0.0</td>\n",
              "      <td>1.0</td>\n",
              "      <td>1.0</td>\n",
              "      <td>18.0</td>\n",
              "      <td>0.0</td>\n",
              "      <td>0.0</td>\n",
              "      <td>0.0</td>\n",
              "      <td>0.0</td>\n",
              "      <td>0.0</td>\n",
              "      <td>0.0</td>\n",
              "      <td>4.0</td>\n",
              "      <td>0.0</td>\n",
              "      <td>0.0</td>\n",
              "      <td>1.0</td>\n",
              "      <td>1.0</td>\n",
              "      <td>1.0</td>\n",
              "      <td>0.0</td>\n",
              "    </tr>\n",
              "    <tr>\n",
              "      <th>70691</th>\n",
              "      <td>9.0</td>\n",
              "      <td>0.0</td>\n",
              "      <td>1.0</td>\n",
              "      <td>1.0</td>\n",
              "      <td>25.0</td>\n",
              "      <td>0.0</td>\n",
              "      <td>1.0</td>\n",
              "      <td>1.0</td>\n",
              "      <td>1.0</td>\n",
              "      <td>0.0</td>\n",
              "      <td>0.0</td>\n",
              "      <td>2.0</td>\n",
              "      <td>0.0</td>\n",
              "      <td>0.0</td>\n",
              "      <td>0.0</td>\n",
              "      <td>1.0</td>\n",
              "      <td>1.0</td>\n",
              "      <td>0.0</td>\n",
              "    </tr>\n",
              "  </tbody>\n",
              "</table>\n",
              "<p>70692 rows × 18 columns</p>\n",
              "</div>\n",
              "      <button class=\"colab-df-convert\" onclick=\"convertToInteractive('df-712d35f9-83ab-4bed-9d7c-f6c0e414f7ee')\"\n",
              "              title=\"Convert this dataframe to an interactive table.\"\n",
              "              style=\"display:none;\">\n",
              "        \n",
              "  <svg xmlns=\"http://www.w3.org/2000/svg\" height=\"24px\"viewBox=\"0 0 24 24\"\n",
              "       width=\"24px\">\n",
              "    <path d=\"M0 0h24v24H0V0z\" fill=\"none\"/>\n",
              "    <path d=\"M18.56 5.44l.94 2.06.94-2.06 2.06-.94-2.06-.94-.94-2.06-.94 2.06-2.06.94zm-11 1L8.5 8.5l.94-2.06 2.06-.94-2.06-.94L8.5 2.5l-.94 2.06-2.06.94zm10 10l.94 2.06.94-2.06 2.06-.94-2.06-.94-.94-2.06-.94 2.06-2.06.94z\"/><path d=\"M17.41 7.96l-1.37-1.37c-.4-.4-.92-.59-1.43-.59-.52 0-1.04.2-1.43.59L10.3 9.45l-7.72 7.72c-.78.78-.78 2.05 0 2.83L4 21.41c.39.39.9.59 1.41.59.51 0 1.02-.2 1.41-.59l7.78-7.78 2.81-2.81c.8-.78.8-2.07 0-2.86zM5.41 20L4 18.59l7.72-7.72 1.47 1.35L5.41 20z\"/>\n",
              "  </svg>\n",
              "      </button>\n",
              "      \n",
              "  <style>\n",
              "    .colab-df-container {\n",
              "      display:flex;\n",
              "      flex-wrap:wrap;\n",
              "      gap: 12px;\n",
              "    }\n",
              "\n",
              "    .colab-df-convert {\n",
              "      background-color: #E8F0FE;\n",
              "      border: none;\n",
              "      border-radius: 50%;\n",
              "      cursor: pointer;\n",
              "      display: none;\n",
              "      fill: #1967D2;\n",
              "      height: 32px;\n",
              "      padding: 0 0 0 0;\n",
              "      width: 32px;\n",
              "    }\n",
              "\n",
              "    .colab-df-convert:hover {\n",
              "      background-color: #E2EBFA;\n",
              "      box-shadow: 0px 1px 2px rgba(60, 64, 67, 0.3), 0px 1px 3px 1px rgba(60, 64, 67, 0.15);\n",
              "      fill: #174EA6;\n",
              "    }\n",
              "\n",
              "    [theme=dark] .colab-df-convert {\n",
              "      background-color: #3B4455;\n",
              "      fill: #D2E3FC;\n",
              "    }\n",
              "\n",
              "    [theme=dark] .colab-df-convert:hover {\n",
              "      background-color: #434B5C;\n",
              "      box-shadow: 0px 1px 3px 1px rgba(0, 0, 0, 0.15);\n",
              "      filter: drop-shadow(0px 1px 2px rgba(0, 0, 0, 0.3));\n",
              "      fill: #FFFFFF;\n",
              "    }\n",
              "  </style>\n",
              "\n",
              "      <script>\n",
              "        const buttonEl =\n",
              "          document.querySelector('#df-712d35f9-83ab-4bed-9d7c-f6c0e414f7ee button.colab-df-convert');\n",
              "        buttonEl.style.display =\n",
              "          google.colab.kernel.accessAllowed ? 'block' : 'none';\n",
              "\n",
              "        async function convertToInteractive(key) {\n",
              "          const element = document.querySelector('#df-712d35f9-83ab-4bed-9d7c-f6c0e414f7ee');\n",
              "          const dataTable =\n",
              "            await google.colab.kernel.invokeFunction('convertToInteractive',\n",
              "                                                     [key], {});\n",
              "          if (!dataTable) return;\n",
              "\n",
              "          const docLinkHtml = 'Like what you see? Visit the ' +\n",
              "            '<a target=\"_blank\" href=https://colab.research.google.com/notebooks/data_table.ipynb>data table notebook</a>'\n",
              "            + ' to learn more about interactive tables.';\n",
              "          element.innerHTML = '';\n",
              "          dataTable['output_type'] = 'display_data';\n",
              "          await google.colab.output.renderOutput(dataTable, element);\n",
              "          const docLink = document.createElement('div');\n",
              "          docLink.innerHTML = docLinkHtml;\n",
              "          element.appendChild(docLink);\n",
              "        }\n",
              "      </script>\n",
              "    </div>\n",
              "  </div>\n",
              "  "
            ]
          },
          "metadata": {},
          "execution_count": 25
        }
      ],
      "source": [
        "import pandas as pd\n",
        "\n",
        "df=pd.read_csv('health_data.csv')\n",
        "df\n"
      ]
    },
    {
      "cell_type": "code",
      "source": [
        "\n",
        "\n",
        "print('The shape of the dataset is:', df.shape)"
      ],
      "metadata": {
        "colab": {
          "base_uri": "https://localhost:8080/"
        },
        "id": "ssjEw-TjbLra",
        "outputId": "aa02d0ac-1191-4f92-85eb-6db5455ef2c6"
      },
      "execution_count": 26,
      "outputs": [
        {
          "output_type": "stream",
          "name": "stdout",
          "text": [
            "The shape of the dataset is: (70692, 18)\n"
          ]
        }
      ]
    },
    {
      "cell_type": "code",
      "source": [
        "df.head()"
      ],
      "metadata": {
        "colab": {
          "base_uri": "https://localhost:8080/",
          "height": 270
        },
        "id": "v4qlygD-ZEIj",
        "outputId": "39671091-f24d-4465-dce7-846ea8e029d7"
      },
      "execution_count": 27,
      "outputs": [
        {
          "output_type": "execute_result",
          "data": {
            "text/plain": [
              "    Age  Sex  HighChol  CholCheck   BMI  Smoker  HeartDiseaseorAttack  \\\n",
              "0   4.0  1.0       0.0        1.0  26.0     0.0                   0.0   \n",
              "1  12.0  1.0       1.0        1.0  26.0     1.0                   0.0   \n",
              "2  13.0  1.0       0.0        1.0  26.0     0.0                   0.0   \n",
              "3  11.0  1.0       1.0        1.0  28.0     1.0                   0.0   \n",
              "4   8.0  0.0       0.0        1.0  29.0     1.0                   0.0   \n",
              "\n",
              "   PhysActivity  Fruits  Veggies  HvyAlcoholConsump  GenHlth  MentHlth  \\\n",
              "0           1.0     0.0      1.0                0.0      3.0       5.0   \n",
              "1           0.0     1.0      0.0                0.0      3.0       0.0   \n",
              "2           1.0     1.0      1.0                0.0      1.0       0.0   \n",
              "3           1.0     1.0      1.0                0.0      3.0       0.0   \n",
              "4           1.0     1.0      1.0                0.0      2.0       0.0   \n",
              "\n",
              "   PhysHlth  DiffWalk  Diabetes  Hypertension  Stroke  \n",
              "0      30.0       0.0       0.0           1.0     0.0  \n",
              "1       0.0       0.0       0.0           1.0     1.0  \n",
              "2      10.0       0.0       0.0           0.0     0.0  \n",
              "3       3.0       0.0       0.0           1.0     0.0  \n",
              "4       0.0       0.0       0.0           0.0     0.0  "
            ],
            "text/html": [
              "\n",
              "  <div id=\"df-0392de54-c1fa-4f5b-97d4-9558a5f6fb17\">\n",
              "    <div class=\"colab-df-container\">\n",
              "      <div>\n",
              "<style scoped>\n",
              "    .dataframe tbody tr th:only-of-type {\n",
              "        vertical-align: middle;\n",
              "    }\n",
              "\n",
              "    .dataframe tbody tr th {\n",
              "        vertical-align: top;\n",
              "    }\n",
              "\n",
              "    .dataframe thead th {\n",
              "        text-align: right;\n",
              "    }\n",
              "</style>\n",
              "<table border=\"1\" class=\"dataframe\">\n",
              "  <thead>\n",
              "    <tr style=\"text-align: right;\">\n",
              "      <th></th>\n",
              "      <th>Age</th>\n",
              "      <th>Sex</th>\n",
              "      <th>HighChol</th>\n",
              "      <th>CholCheck</th>\n",
              "      <th>BMI</th>\n",
              "      <th>Smoker</th>\n",
              "      <th>HeartDiseaseorAttack</th>\n",
              "      <th>PhysActivity</th>\n",
              "      <th>Fruits</th>\n",
              "      <th>Veggies</th>\n",
              "      <th>HvyAlcoholConsump</th>\n",
              "      <th>GenHlth</th>\n",
              "      <th>MentHlth</th>\n",
              "      <th>PhysHlth</th>\n",
              "      <th>DiffWalk</th>\n",
              "      <th>Diabetes</th>\n",
              "      <th>Hypertension</th>\n",
              "      <th>Stroke</th>\n",
              "    </tr>\n",
              "  </thead>\n",
              "  <tbody>\n",
              "    <tr>\n",
              "      <th>0</th>\n",
              "      <td>4.0</td>\n",
              "      <td>1.0</td>\n",
              "      <td>0.0</td>\n",
              "      <td>1.0</td>\n",
              "      <td>26.0</td>\n",
              "      <td>0.0</td>\n",
              "      <td>0.0</td>\n",
              "      <td>1.0</td>\n",
              "      <td>0.0</td>\n",
              "      <td>1.0</td>\n",
              "      <td>0.0</td>\n",
              "      <td>3.0</td>\n",
              "      <td>5.0</td>\n",
              "      <td>30.0</td>\n",
              "      <td>0.0</td>\n",
              "      <td>0.0</td>\n",
              "      <td>1.0</td>\n",
              "      <td>0.0</td>\n",
              "    </tr>\n",
              "    <tr>\n",
              "      <th>1</th>\n",
              "      <td>12.0</td>\n",
              "      <td>1.0</td>\n",
              "      <td>1.0</td>\n",
              "      <td>1.0</td>\n",
              "      <td>26.0</td>\n",
              "      <td>1.0</td>\n",
              "      <td>0.0</td>\n",
              "      <td>0.0</td>\n",
              "      <td>1.0</td>\n",
              "      <td>0.0</td>\n",
              "      <td>0.0</td>\n",
              "      <td>3.0</td>\n",
              "      <td>0.0</td>\n",
              "      <td>0.0</td>\n",
              "      <td>0.0</td>\n",
              "      <td>0.0</td>\n",
              "      <td>1.0</td>\n",
              "      <td>1.0</td>\n",
              "    </tr>\n",
              "    <tr>\n",
              "      <th>2</th>\n",
              "      <td>13.0</td>\n",
              "      <td>1.0</td>\n",
              "      <td>0.0</td>\n",
              "      <td>1.0</td>\n",
              "      <td>26.0</td>\n",
              "      <td>0.0</td>\n",
              "      <td>0.0</td>\n",
              "      <td>1.0</td>\n",
              "      <td>1.0</td>\n",
              "      <td>1.0</td>\n",
              "      <td>0.0</td>\n",
              "      <td>1.0</td>\n",
              "      <td>0.0</td>\n",
              "      <td>10.0</td>\n",
              "      <td>0.0</td>\n",
              "      <td>0.0</td>\n",
              "      <td>0.0</td>\n",
              "      <td>0.0</td>\n",
              "    </tr>\n",
              "    <tr>\n",
              "      <th>3</th>\n",
              "      <td>11.0</td>\n",
              "      <td>1.0</td>\n",
              "      <td>1.0</td>\n",
              "      <td>1.0</td>\n",
              "      <td>28.0</td>\n",
              "      <td>1.0</td>\n",
              "      <td>0.0</td>\n",
              "      <td>1.0</td>\n",
              "      <td>1.0</td>\n",
              "      <td>1.0</td>\n",
              "      <td>0.0</td>\n",
              "      <td>3.0</td>\n",
              "      <td>0.0</td>\n",
              "      <td>3.0</td>\n",
              "      <td>0.0</td>\n",
              "      <td>0.0</td>\n",
              "      <td>1.0</td>\n",
              "      <td>0.0</td>\n",
              "    </tr>\n",
              "    <tr>\n",
              "      <th>4</th>\n",
              "      <td>8.0</td>\n",
              "      <td>0.0</td>\n",
              "      <td>0.0</td>\n",
              "      <td>1.0</td>\n",
              "      <td>29.0</td>\n",
              "      <td>1.0</td>\n",
              "      <td>0.0</td>\n",
              "      <td>1.0</td>\n",
              "      <td>1.0</td>\n",
              "      <td>1.0</td>\n",
              "      <td>0.0</td>\n",
              "      <td>2.0</td>\n",
              "      <td>0.0</td>\n",
              "      <td>0.0</td>\n",
              "      <td>0.0</td>\n",
              "      <td>0.0</td>\n",
              "      <td>0.0</td>\n",
              "      <td>0.0</td>\n",
              "    </tr>\n",
              "  </tbody>\n",
              "</table>\n",
              "</div>\n",
              "      <button class=\"colab-df-convert\" onclick=\"convertToInteractive('df-0392de54-c1fa-4f5b-97d4-9558a5f6fb17')\"\n",
              "              title=\"Convert this dataframe to an interactive table.\"\n",
              "              style=\"display:none;\">\n",
              "        \n",
              "  <svg xmlns=\"http://www.w3.org/2000/svg\" height=\"24px\"viewBox=\"0 0 24 24\"\n",
              "       width=\"24px\">\n",
              "    <path d=\"M0 0h24v24H0V0z\" fill=\"none\"/>\n",
              "    <path d=\"M18.56 5.44l.94 2.06.94-2.06 2.06-.94-2.06-.94-.94-2.06-.94 2.06-2.06.94zm-11 1L8.5 8.5l.94-2.06 2.06-.94-2.06-.94L8.5 2.5l-.94 2.06-2.06.94zm10 10l.94 2.06.94-2.06 2.06-.94-2.06-.94-.94-2.06-.94 2.06-2.06.94z\"/><path d=\"M17.41 7.96l-1.37-1.37c-.4-.4-.92-.59-1.43-.59-.52 0-1.04.2-1.43.59L10.3 9.45l-7.72 7.72c-.78.78-.78 2.05 0 2.83L4 21.41c.39.39.9.59 1.41.59.51 0 1.02-.2 1.41-.59l7.78-7.78 2.81-2.81c.8-.78.8-2.07 0-2.86zM5.41 20L4 18.59l7.72-7.72 1.47 1.35L5.41 20z\"/>\n",
              "  </svg>\n",
              "      </button>\n",
              "      \n",
              "  <style>\n",
              "    .colab-df-container {\n",
              "      display:flex;\n",
              "      flex-wrap:wrap;\n",
              "      gap: 12px;\n",
              "    }\n",
              "\n",
              "    .colab-df-convert {\n",
              "      background-color: #E8F0FE;\n",
              "      border: none;\n",
              "      border-radius: 50%;\n",
              "      cursor: pointer;\n",
              "      display: none;\n",
              "      fill: #1967D2;\n",
              "      height: 32px;\n",
              "      padding: 0 0 0 0;\n",
              "      width: 32px;\n",
              "    }\n",
              "\n",
              "    .colab-df-convert:hover {\n",
              "      background-color: #E2EBFA;\n",
              "      box-shadow: 0px 1px 2px rgba(60, 64, 67, 0.3), 0px 1px 3px 1px rgba(60, 64, 67, 0.15);\n",
              "      fill: #174EA6;\n",
              "    }\n",
              "\n",
              "    [theme=dark] .colab-df-convert {\n",
              "      background-color: #3B4455;\n",
              "      fill: #D2E3FC;\n",
              "    }\n",
              "\n",
              "    [theme=dark] .colab-df-convert:hover {\n",
              "      background-color: #434B5C;\n",
              "      box-shadow: 0px 1px 3px 1px rgba(0, 0, 0, 0.15);\n",
              "      filter: drop-shadow(0px 1px 2px rgba(0, 0, 0, 0.3));\n",
              "      fill: #FFFFFF;\n",
              "    }\n",
              "  </style>\n",
              "\n",
              "      <script>\n",
              "        const buttonEl =\n",
              "          document.querySelector('#df-0392de54-c1fa-4f5b-97d4-9558a5f6fb17 button.colab-df-convert');\n",
              "        buttonEl.style.display =\n",
              "          google.colab.kernel.accessAllowed ? 'block' : 'none';\n",
              "\n",
              "        async function convertToInteractive(key) {\n",
              "          const element = document.querySelector('#df-0392de54-c1fa-4f5b-97d4-9558a5f6fb17');\n",
              "          const dataTable =\n",
              "            await google.colab.kernel.invokeFunction('convertToInteractive',\n",
              "                                                     [key], {});\n",
              "          if (!dataTable) return;\n",
              "\n",
              "          const docLinkHtml = 'Like what you see? Visit the ' +\n",
              "            '<a target=\"_blank\" href=https://colab.research.google.com/notebooks/data_table.ipynb>data table notebook</a>'\n",
              "            + ' to learn more about interactive tables.';\n",
              "          element.innerHTML = '';\n",
              "          dataTable['output_type'] = 'display_data';\n",
              "          await google.colab.output.renderOutput(dataTable, element);\n",
              "          const docLink = document.createElement('div');\n",
              "          docLink.innerHTML = docLinkHtml;\n",
              "          element.appendChild(docLink);\n",
              "        }\n",
              "      </script>\n",
              "    </div>\n",
              "  </div>\n",
              "  "
            ]
          },
          "metadata": {},
          "execution_count": 27
        }
      ]
    },
    {
      "cell_type": "markdown",
      "source": [],
      "metadata": {
        "id": "RvGG28r0bWpD"
      }
    },
    {
      "cell_type": "code",
      "source": [
        "# Let's see the data types and non-null values for each column\n",
        "df.info()"
      ],
      "metadata": {
        "colab": {
          "base_uri": "https://localhost:8080/"
        },
        "id": "o06_TkcZbYAs",
        "outputId": "ddfece35-ee27-4648-d563-cb845aef6d9f"
      },
      "execution_count": 28,
      "outputs": [
        {
          "output_type": "stream",
          "name": "stdout",
          "text": [
            "<class 'pandas.core.frame.DataFrame'>\n",
            "RangeIndex: 70692 entries, 0 to 70691\n",
            "Data columns (total 18 columns):\n",
            " #   Column                Non-Null Count  Dtype  \n",
            "---  ------                --------------  -----  \n",
            " 0   Age                   70692 non-null  float64\n",
            " 1   Sex                   70692 non-null  float64\n",
            " 2   HighChol              70692 non-null  float64\n",
            " 3   CholCheck             70692 non-null  float64\n",
            " 4   BMI                   70692 non-null  float64\n",
            " 5   Smoker                70692 non-null  float64\n",
            " 6   HeartDiseaseorAttack  70692 non-null  float64\n",
            " 7   PhysActivity          70692 non-null  float64\n",
            " 8   Fruits                70692 non-null  float64\n",
            " 9   Veggies               70692 non-null  float64\n",
            " 10  HvyAlcoholConsump     70692 non-null  float64\n",
            " 11  GenHlth               70692 non-null  float64\n",
            " 12  MentHlth              70692 non-null  float64\n",
            " 13  PhysHlth              70692 non-null  float64\n",
            " 14  DiffWalk              70692 non-null  float64\n",
            " 15  Diabetes              70692 non-null  float64\n",
            " 16  Hypertension          70692 non-null  float64\n",
            " 17  Stroke                70692 non-null  float64\n",
            "dtypes: float64(18)\n",
            "memory usage: 9.7 MB\n"
          ]
        }
      ]
    },
    {
      "cell_type": "code",
      "source": [],
      "metadata": {
        "id": "NbLiEkFobdV7"
      },
      "execution_count": 15,
      "outputs": []
    },
    {
      "cell_type": "code",
      "source": [
        "print(df.columns)"
      ],
      "metadata": {
        "colab": {
          "base_uri": "https://localhost:8080/"
        },
        "id": "SgUExXvXbhSi",
        "outputId": "150beaa8-1357-47c7-c81e-34ff4d4d4bc5"
      },
      "execution_count": 29,
      "outputs": [
        {
          "output_type": "stream",
          "name": "stdout",
          "text": [
            "Index(['Age', 'Sex', 'HighChol', 'CholCheck', 'BMI', 'Smoker',\n",
            "       'HeartDiseaseorAttack', 'PhysActivity', 'Fruits', 'Veggies',\n",
            "       'HvyAlcoholConsump', 'GenHlth', 'MentHlth', 'PhysHlth', 'DiffWalk',\n",
            "       'Diabetes', 'Hypertension', 'Stroke'],\n",
            "      dtype='object')\n"
          ]
        }
      ]
    },
    {
      "cell_type": "code",
      "source": [
        "model_features1 = df.columns.drop('Stroke')\n",
        "model_target1 = 'Stroke'\n",
        "\n",
        "print('Model features: ', model_features1)\n",
        "print('Model target: ', model_target1)\n",
        "\n",
        "model_features2 = df.columns.drop('Diabetes')\n",
        "model_target2 = 'Diabetes'\n",
        "\n",
        "print('Model features: ', model_features2)\n",
        "print('Model target: ', model_target2)\n"
      ],
      "metadata": {
        "colab": {
          "base_uri": "https://localhost:8080/"
        },
        "id": "SB_qqKI5bkY4",
        "outputId": "6199279c-86b1-40f5-8a7b-1ace8c7fbf6e"
      },
      "execution_count": 33,
      "outputs": [
        {
          "output_type": "stream",
          "name": "stdout",
          "text": [
            "Model features:  Index(['Age', 'Sex', 'HighChol', 'CholCheck', 'BMI', 'Smoker',\n",
            "       'HeartDiseaseorAttack', 'PhysActivity', 'Fruits', 'Veggies',\n",
            "       'HvyAlcoholConsump', 'GenHlth', 'MentHlth', 'PhysHlth', 'DiffWalk',\n",
            "       'Diabetes', 'Hypertension'],\n",
            "      dtype='object')\n",
            "Model target:  Stroke\n",
            "Model features:  Index(['Age', 'Sex', 'HighChol', 'CholCheck', 'BMI', 'Smoker',\n",
            "       'HeartDiseaseorAttack', 'PhysActivity', 'Fruits', 'Veggies',\n",
            "       'HvyAlcoholConsump', 'GenHlth', 'MentHlth', 'PhysHlth', 'DiffWalk',\n",
            "       'Hypertension', 'Stroke'],\n",
            "      dtype='object')\n",
            "Model target:  Diabetes\n"
          ]
        }
      ]
    },
    {
      "cell_type": "code",
      "source": [
        "import matplotlib.pyplot as plt\n",
        "%matplotlib inline\n",
        "\n",
        "df[model_target1].value_counts().plot.bar()\n",
        "plt.show()"
      ],
      "metadata": {
        "colab": {
          "base_uri": "https://localhost:8080/",
          "height": 271
        },
        "id": "UEoBut6ldXm6",
        "outputId": "8f0d8cda-5d06-42b1-f837-83ad451398c0"
      },
      "execution_count": 32,
      "outputs": [
        {
          "output_type": "display_data",
          "data": {
            "text/plain": [
              "<Figure size 432x288 with 1 Axes>"
            ],
            "image/png": "[encoded data removed]"
          },
          "metadata": {
            "needs_background": "light"
          }
        }
      ]
    },
    {
      "cell_type": "code",
      "source": [
        "import matplotlib.pyplot as plt\n",
        "%matplotlib inline\n",
        "\n",
        "df[model_target2].value_counts().plot.bar()\n",
        "plt.show()"
      ],
      "metadata": {
        "colab": {
          "base_uri": "https://localhost:8080/",
          "height": 271
        },
        "id": "b3SsXyGUi7ZL",
        "outputId": "960f2e8b-c074-4d44-9dc7-6e945717ea70"
      },
      "execution_count": 34,
      "outputs": [
        {
          "output_type": "display_data",
          "data": {
            "text/plain": [
              "<Figure size 432x288 with 1 Axes>"
            ],
            "image/png": "[encoded data removed]"
          },
          "metadata": {
            "needs_background": "light"
          }
        }
      ]
    },
    {
      "cell_type": "code",
      "source": [
        "import numpy as np\n",
        "numerical_features_all = df[model_features1].select_dtypes(include=np.number).columns\n",
        "print('Numerical columns:',numerical_features_all)\n",
        "\n",
        "print('')"
      ],
      "metadata": {
        "colab": {
          "base_uri": "https://localhost:8080/"
        },
        "id": "C7W6UQasjPdc",
        "outputId": "ed5a9c00-c8d6-4a06-8eb8-90eac923d530"
      },
      "execution_count": 35,
      "outputs": [
        {
          "output_type": "stream",
          "name": "stdout",
          "text": [
            "Numerical columns: Index(['Age', 'Sex', 'HighChol', 'CholCheck', 'BMI', 'Smoker',\n",
            "       'HeartDiseaseorAttack', 'PhysActivity', 'Fruits', 'Veggies',\n",
            "       'HvyAlcoholConsump', 'GenHlth', 'MentHlth', 'PhysHlth', 'DiffWalk',\n",
            "       'Diabetes', 'Hypertension'],\n",
            "      dtype='object')\n",
            "\n"
          ]
        }
      ]
    },
    {
      "cell_type": "code",
      "source": [
        "import matplotlib.pyplot as plt\n",
        "%matplotlib inline\n",
        "\n",
        "for c in numerical_features_all:\n",
        "    print(c)\n",
        "    df[c].plot.hist(bins=5)\n",
        "    plt.show()\n"
      ],
      "metadata": {
        "colab": {
          "base_uri": "https://localhost:8080/",
          "height": 1000
        },
        "id": "UoFwVUepjVWq",
        "outputId": "961c386d-92b5-4d21-c9fa-17c0f649075f"
      },
      "execution_count": 36,
      "outputs": [
        {
          "output_type": "stream",
          "name": "stdout",
          "text": [
            "Age\n"
          ]
        },
        {
          "output_type": "display_data",
          "data": {
            "text/plain": [
              "<Figure size 432x288 with 1 Axes>"
            ],
            "image/png": "[encoded data removed]"
          },
          "metadata": {
            "needs_background": "light"
          }
        },
        {
          "output_type": "stream",
          "name": "stdout",
          "text": [
            "Sex\n"
          ]
        },
        {
          "output_type": "display_data",
          "data": {
            "text/plain": [
              "<Figure size 432x288 with 1 Axes>"
            ],
            "image/png": "[encoded data removed]"
          },
          "metadata": {
            "needs_background": "light"
          }
        },
        {
          "output_type": "stream",
          "name": "stdout",
          "text": [
            "HighChol\n"
          ]
        },
        {
          "output_type": "display_data",
          "data": {
            "text/plain": [
              "<Figure size 432x288 with 1 Axes>"
            ],
            "image/png": "[encoded data removed]"
          },
          "metadata": {
            "needs_background": "light"
          }
        },
        {
          "output_type": "stream",
          "name": "stdout",
          "text": [
            "CholCheck\n"
          ]
        },
        {
          "output_type": "display_data",
          "data": {
            "text/plain": [
              "<Figure size 432x288 with 1 Axes>"
            ],
            "image/png": "[encoded data removed]"
          },
          "metadata": {
            "needs_background": "light"
          }
        },
        {
          "output_type": "stream",
          "name": "stdout",
          "text": [
            "BMI\n"
          ]
        },
        {
          "output_type": "display_data",
          "data": {
            "text/plain": [
              "<Figure size 432x288 with 1 Axes>"
            ],
            "image/png": "[encoded data removed]"
          },
          "metadata": {
            "needs_background": "light"
          }
        },
        {
          "output_type": "stream",
          "name": "stdout",
          "text": [
            "Smoker\n"
          ]
        },
        {
          "output_type": "display_data",
          "data": {
            "text/plain": [
              "<Figure size 432x288 with 1 Axes>"
            ],
            "image/png": "[encoded data removed]"
          },
          "metadata": {
            "needs_background": "light"
          }
        },
        {
          "output_type": "stream",
          "name": "stdout",
          "text": [
            "HeartDiseaseorAttack\n"
          ]
        },
        {
          "output_type": "display_data",
          "data": {
            "text/plain": [
              "<Figure size 432x288 with 1 Axes>"
            ],
            "image/png": "[encoded data removed]"
          },
          "metadata": {
            "needs_background": "light"
          }
        },
        {
          "output_type": "stream",
          "name": "stdout",
          "text": [
            "PhysActivity\n"
          ]
        },
        {
          "output_type": "display_data",
          "data": {
            "text/plain": [
              "<Figure size 432x288 with 1 Axes>"
            ],
            "image/png": "[encoded data removed]"
          },
          "metadata": {
            "needs_background": "light"
          }
        },
        {
          "output_type": "stream",
          "name": "stdout",
          "text": [
            "Fruits\n"
          ]
        },
        {
          "output_type": "display_data",
          "data": {
            "text/plain": [
              "<Figure size 432x288 with 1 Axes>"
            ],
            "image/png": "[encoded data removed]"
          },
          "metadata": {
            "needs_background": "light"
          }
        },
        {
          "output_type": "stream",
          "name": "stdout",
          "text": [
            "Veggies\n"
          ]
        },
        {
          "output_type": "display_data",
          "data": {
            "text/plain": [
              "<Figure size 432x288 with 1 Axes>"
            ],
            "image/png": "[encoded data removed]"
          },
          "metadata": {
            "needs_background": "light"
          }
        },
        {
          "output_type": "stream",
          "name": "stdout",
          "text": [
            "HvyAlcoholConsump\n"
          ]
        },
        {
          "output_type": "display_data",
          "data": {
            "text/plain": [
              "<Figure size 432x288 with 1 Axes>"
            ],
            "image/png": "[encoded data removed]"
          },
          "metadata": {
            "needs_background": "light"
          }
        },
        {
          "output_type": "stream",
          "name": "stdout",
          "text": [
            "GenHlth\n"
          ]
        },
        {
          "output_type": "display_data",
          "data": {
            "text/plain": [
              "<Figure size 432x288 with 1 Axes>"
            ],
            "image/png": "[encoded data removed]"
          },
          "metadata": {
            "needs_background": "light"
          }
        },
        {
          "output_type": "stream",
          "name": "stdout",
          "text": [
            "MentHlth\n"
          ]
        },
        {
          "output_type": "display_data",
          "data": {
            "text/plain": [
              "<Figure size 432x288 with 1 Axes>"
            ],
            "image/png": "[encoded data removed]"
          },
          "metadata": {
            "needs_background": "light"
          }
        },
        {
          "output_type": "stream",
          "name": "stdout",
          "text": [
            "PhysHlth\n"
          ]
        },
        {
          "output_type": "display_data",
          "data": {
            "text/plain": [
              "<Figure size 432x288 with 1 Axes>"
            ],
            "image/png": "[encoded data removed]"
          },
          "metadata": {
            "needs_background": "light"
          }
        },
        {
          "output_type": "stream",
          "name": "stdout",
          "text": [
            "DiffWalk\n"
          ]
        },
        {
          "output_type": "display_data",
          "data": {
            "text/plain": [
              "<Figure size 432x288 with 1 Axes>"
            ],
            "image/png": "[encoded data removed]"
          },
          "metadata": {
            "needs_background": "light"
          }
        },
        {
          "output_type": "stream",
          "name": "stdout",
          "text": [
            "Diabetes\n"
          ]
        },
        {
          "output_type": "display_data",
          "data": {
            "text/plain": [
              "<Figure size 432x288 with 1 Axes>"
            ],
            "image/png": "[encoded data removed]"
          },
          "metadata": {
            "needs_background": "light"
          }
        },
        {
          "output_type": "stream",
          "name": "stdout",
          "text": [
            "Hypertension\n"
          ]
        },
        {
          "output_type": "display_data",
          "data": {
            "text/plain": [
              "<Figure size 432x288 with 1 Axes>"
            ],
            "image/png": "[encoded data removed]"
          },
          "metadata": {
            "needs_background": "light"
          }
        }
      ]
    },
    {
      "cell_type": "code",
      "source": [
        "for c in numerical_features_all:\n",
        "    print(c)\n",
        "    print('min:', df[c].min(), 'max:', df[c].max())"
      ],
      "metadata": {
        "colab": {
          "base_uri": "https://localhost:8080/"
        },
        "id": "9DkgZH4_jb8o",
        "outputId": "9cce93d0-65d5-4e82-d0dc-c5b7338f527f"
      },
      "execution_count": 37,
      "outputs": [
        {
          "output_type": "stream",
          "name": "stdout",
          "text": [
            "Age\n",
            "min: 1.0 max: 13.0\n",
            "Sex\n",
            "min: 0.0 max: 1.0\n",
            "HighChol\n",
            "min: 0.0 max: 1.0\n",
            "CholCheck\n",
            "min: 0.0 max: 1.0\n",
            "BMI\n",
            "min: 12.0 max: 98.0\n",
            "Smoker\n",
            "min: 0.0 max: 1.0\n",
            "HeartDiseaseorAttack\n",
            "min: 0.0 max: 1.0\n",
            "PhysActivity\n",
            "min: 0.0 max: 1.0\n",
            "Fruits\n",
            "min: 0.0 max: 1.0\n",
            "Veggies\n",
            "min: 0.0 max: 1.0\n",
            "HvyAlcoholConsump\n",
            "min: 0.0 max: 1.0\n",
            "GenHlth\n",
            "min: 1.0 max: 5.0\n",
            "MentHlth\n",
            "min: 0.0 max: 30.0\n",
            "PhysHlth\n",
            "min: 0.0 max: 30.0\n",
            "DiffWalk\n",
            "min: 0.0 max: 1.0\n",
            "Diabetes\n",
            "min: 0.0 max: 1.0\n",
            "Hypertension\n",
            "min: 0.0 max: 1.0\n"
          ]
        }
      ]
    },
    {
      "cell_type": "code",
      "source": [
        "for c in numerical_features_all: \n",
        "    print(c)\n",
        "    print(df[c].value_counts(bins=10, sort=False))\n",
        "    plt.show()"
      ],
      "metadata": {
        "colab": {
          "base_uri": "https://localhost:8080/"
        },
        "id": "cMsNkkl7jezE",
        "outputId": "01104e6d-38d6-41eb-e280-52885370e1fa"
      },
      "execution_count": 38,
      "outputs": [
        {
          "output_type": "stream",
          "name": "stdout",
          "text": [
            "Age\n",
            "(0.987, 2.2]     2375\n",
            "(2.2, 3.4]       2049\n",
            "(3.4, 4.6]       2793\n",
            "(4.6, 5.8]       3520\n",
            "(5.8, 7.0]      11520\n",
            "(7.0, 8.2]       8603\n",
            "(8.2, 9.4]      10112\n",
            "(9.4, 10.6]     10856\n",
            "(10.6, 11.8]     8044\n",
            "(11.8, 13.0]    10820\n",
            "Name: Age, dtype: int64\n",
            "Sex\n",
            "(-0.002, 0.1]    38386\n",
            "(0.1, 0.2]           0\n",
            "(0.2, 0.3]           0\n",
            "(0.3, 0.4]           0\n",
            "(0.4, 0.5]           0\n",
            "(0.5, 0.6]           0\n",
            "(0.6, 0.7]           0\n",
            "(0.7, 0.8]           0\n",
            "(0.8, 0.9]           0\n",
            "(0.9, 1.0]       32306\n",
            "Name: Sex, dtype: int64\n",
            "HighChol\n",
            "(-0.002, 0.1]    33529\n",
            "(0.1, 0.2]           0\n",
            "(0.2, 0.3]           0\n",
            "(0.3, 0.4]           0\n",
            "(0.4, 0.5]           0\n",
            "(0.5, 0.6]           0\n",
            "(0.6, 0.7]           0\n",
            "(0.7, 0.8]           0\n",
            "(0.8, 0.9]           0\n",
            "(0.9, 1.0]       37163\n",
            "Name: HighChol, dtype: int64\n",
            "CholCheck\n",
            "(-0.002, 0.1]     1749\n",
            "(0.1, 0.2]           0\n",
            "(0.2, 0.3]           0\n",
            "(0.3, 0.4]           0\n",
            "(0.4, 0.5]           0\n",
            "(0.5, 0.6]           0\n",
            "(0.6, 0.7]           0\n",
            "(0.7, 0.8]           0\n",
            "(0.8, 0.9]           0\n",
            "(0.9, 1.0]       68943\n",
            "Name: CholCheck, dtype: int64\n",
            "BMI\n",
            "(11.913, 20.6]     2600\n",
            "(20.6, 29.2]      36648\n",
            "(29.2, 37.8]      22809\n",
            "(37.8, 46.4]       6814\n",
            "(46.4, 55.0]       1376\n",
            "(55.0, 63.6]        243\n",
            "(63.6, 72.2]         71\n",
            "(72.2, 80.8]         61\n",
            "(80.8, 89.4]         53\n",
            "(89.4, 98.0]         17\n",
            "Name: BMI, dtype: int64\n",
            "Smoker\n",
            "(-0.002, 0.1]    37094\n",
            "(0.1, 0.2]           0\n",
            "(0.2, 0.3]           0\n",
            "(0.3, 0.4]           0\n",
            "(0.4, 0.5]           0\n",
            "(0.5, 0.6]           0\n",
            "(0.6, 0.7]           0\n",
            "(0.7, 0.8]           0\n",
            "(0.8, 0.9]           0\n",
            "(0.9, 1.0]       33598\n",
            "Name: Smoker, dtype: int64\n",
            "HeartDiseaseorAttack\n",
            "(-0.002, 0.1]    60243\n",
            "(0.1, 0.2]           0\n",
            "(0.2, 0.3]           0\n",
            "(0.3, 0.4]           0\n",
            "(0.4, 0.5]           0\n",
            "(0.5, 0.6]           0\n",
            "(0.6, 0.7]           0\n",
            "(0.7, 0.8]           0\n",
            "(0.8, 0.9]           0\n",
            "(0.9, 1.0]       10449\n",
            "Name: HeartDiseaseorAttack, dtype: int64\n",
            "PhysActivity\n",
            "(-0.002, 0.1]    20993\n",
            "(0.1, 0.2]           0\n",
            "(0.2, 0.3]           0\n",
            "(0.3, 0.4]           0\n",
            "(0.4, 0.5]           0\n",
            "(0.5, 0.6]           0\n",
            "(0.6, 0.7]           0\n",
            "(0.7, 0.8]           0\n",
            "(0.8, 0.9]           0\n",
            "(0.9, 1.0]       49699\n",
            "Name: PhysActivity, dtype: int64\n",
            "Fruits\n",
            "(-0.002, 0.1]    27443\n",
            "(0.1, 0.2]           0\n",
            "(0.2, 0.3]           0\n",
            "(0.3, 0.4]           0\n",
            "(0.4, 0.5]           0\n",
            "(0.5, 0.6]           0\n",
            "(0.6, 0.7]           0\n",
            "(0.7, 0.8]           0\n",
            "(0.8, 0.9]           0\n",
            "(0.9, 1.0]       43249\n",
            "Name: Fruits, dtype: int64\n",
            "Veggies\n",
            "(-0.002, 0.1]    14932\n",
            "(0.1, 0.2]           0\n",
            "(0.2, 0.3]           0\n",
            "(0.3, 0.4]           0\n",
            "(0.4, 0.5]           0\n",
            "(0.5, 0.6]           0\n",
            "(0.6, 0.7]           0\n",
            "(0.7, 0.8]           0\n",
            "(0.8, 0.9]           0\n",
            "(0.9, 1.0]       55760\n",
            "Name: Veggies, dtype: int64\n",
            "HvyAlcoholConsump\n",
            "(-0.002, 0.1]    67672\n",
            "(0.1, 0.2]           0\n",
            "(0.2, 0.3]           0\n",
            "(0.3, 0.4]           0\n",
            "(0.4, 0.5]           0\n",
            "(0.5, 0.6]           0\n",
            "(0.6, 0.7]           0\n",
            "(0.7, 0.8]           0\n",
            "(0.8, 0.9]           0\n",
            "(0.9, 1.0]        3020\n",
            "Name: HvyAlcoholConsump, dtype: int64\n",
            "GenHlth\n",
            "(0.995, 1.4]     8282\n",
            "(1.4, 1.8]          0\n",
            "(1.8, 2.2]      19872\n",
            "(2.2, 2.6]          0\n",
            "(2.6, 3.0]      23427\n",
            "(3.0, 3.4]          0\n",
            "(3.4, 3.8]          0\n",
            "(3.8, 4.2]      13303\n",
            "(4.2, 4.6]          0\n",
            "(4.6, 5.0]       5808\n",
            "Name: GenHlth, dtype: int64\n",
            "MentHlth\n",
            "(-0.031, 3.0]    55376\n",
            "(3.0, 6.0]        3788\n",
            "(6.0, 9.0]        1051\n",
            "(9.0, 12.0]       2062\n",
            "(12.0, 15.0]      2135\n",
            "(15.0, 18.0]        88\n",
            "(18.0, 21.0]      1216\n",
            "(21.0, 24.0]        45\n",
            "(24.0, 27.0]       459\n",
            "(27.0, 30.0]      4472\n",
            "Name: MentHlth, dtype: int64\n",
            "PhysHlth\n",
            "(-0.031, 3.0]    49308\n",
            "(3.0, 6.0]        4155\n",
            "(6.0, 9.0]        1657\n",
            "(9.0, 12.0]       2207\n",
            "(12.0, 15.0]      2741\n",
            "(15.0, 18.0]       135\n",
            "(18.0, 21.0]      1531\n",
            "(21.0, 24.0]        82\n",
            "(24.0, 27.0]       617\n",
            "(27.0, 30.0]      8259\n",
            "Name: PhysHlth, dtype: int64\n",
            "DiffWalk\n",
            "(-0.002, 0.1]    52826\n",
            "(0.1, 0.2]           0\n",
            "(0.2, 0.3]           0\n",
            "(0.3, 0.4]           0\n",
            "(0.4, 0.5]           0\n",
            "(0.5, 0.6]           0\n",
            "(0.6, 0.7]           0\n",
            "(0.7, 0.8]           0\n",
            "(0.8, 0.9]           0\n",
            "(0.9, 1.0]       17866\n",
            "Name: DiffWalk, dtype: int64\n",
            "Diabetes\n",
            "(-0.002, 0.1]    35346\n",
            "(0.1, 0.2]           0\n",
            "(0.2, 0.3]           0\n",
            "(0.3, 0.4]           0\n",
            "(0.4, 0.5]           0\n",
            "(0.5, 0.6]           0\n",
            "(0.6, 0.7]           0\n",
            "(0.7, 0.8]           0\n",
            "(0.8, 0.9]           0\n",
            "(0.9, 1.0]       35346\n",
            "Name: Diabetes, dtype: int64\n",
            "Hypertension\n",
            "(-0.002, 0.1]    30860\n",
            "(0.1, 0.2]           0\n",
            "(0.2, 0.3]           0\n",
            "(0.3, 0.4]           0\n",
            "(0.4, 0.5]           0\n",
            "(0.5, 0.6]           0\n",
            "(0.6, 0.7]           0\n",
            "(0.7, 0.8]           0\n",
            "(0.8, 0.9]           0\n",
            "(0.9, 1.0]       39832\n",
            "Name: Hypertension, dtype: int64\n"
          ]
        }
      ]
    },
    {
      "cell_type": "code",
      "source": [
        "print(df[numerical_features_all].isna().sum())"
      ],
      "metadata": {
        "colab": {
          "base_uri": "https://localhost:8080/"
        },
        "id": "mKzcz18sjhiQ",
        "outputId": "80b03673-2bb8-4d16-c6be-8a54a2f26c21"
      },
      "execution_count": 39,
      "outputs": [
        {
          "output_type": "stream",
          "name": "stdout",
          "text": [
            "Age                     0\n",
            "Sex                     0\n",
            "HighChol                0\n",
            "CholCheck               0\n",
            "BMI                     0\n",
            "Smoker                  0\n",
            "HeartDiseaseorAttack    0\n",
            "PhysActivity            0\n",
            "Fruits                  0\n",
            "Veggies                 0\n",
            "HvyAlcoholConsump       0\n",
            "GenHlth                 0\n",
            "MentHlth                0\n",
            "PhysHlth                0\n",
            "DiffWalk                0\n",
            "Diabetes                0\n",
            "Hypertension            0\n",
            "dtype: int64\n"
          ]
        }
      ]
    },
    {
      "cell_type": "code",
      "source": [
        "from sklearn.model_selection import train_test_split\n",
        "\n",
        "train_data, test_data = train_test_split(df, test_size=0.1, shuffle=True, random_state=23)"
      ],
      "metadata": {
        "id": "U3Rw82fhjpO_"
      },
      "execution_count": 40,
      "outputs": []
    },
    {
      "cell_type": "code",
      "source": [
        "print('Training set shape:', train_data.shape)\n",
        "\n",
        "print('Class 0 samples in the training set:', sum(train_data[model_target1] == 0))\n",
        "print('Class 1 samples in the training set:', sum(train_data[model_target1] == 1))\n",
        "\n",
        "print('Class 0 samples in the test set:', sum(test_data[model_target1] == 0))\n",
        "print('Class 1 samples in the test set:', sum(test_data[model_target1] == 1))"
      ],
      "metadata": {
        "colab": {
          "base_uri": "https://localhost:8080/"
        },
        "id": "qQUPMd5WjpVo",
        "outputId": "3e7ad533-453f-4d51-ea90-faa14b25d4fe"
      },
      "execution_count": 43,
      "outputs": [
        {
          "output_type": "stream",
          "name": "stdout",
          "text": [
            "Training set shape: (63622, 18)\n",
            "Class 0 samples in the training set: 59647\n",
            "Class 1 samples in the training set: 3975\n",
            "Class 0 samples in the test set: 6650\n",
            "Class 1 samples in the test set: 420\n"
          ]
        }
      ]
    },
    {
      "cell_type": "code",
      "source": [
        "from sklearn.utils import shuffle\n",
        "\n",
        "class_0_no = train_data[train_data[model_target1] == 0]\n",
        "class_1_no = train_data[train_data[model_target1] == 1]\n",
        "\n",
        "upsampled_class_0_no = class_0_no.sample(n=len(class_1_no), replace=True, random_state=42)\n",
        "\n",
        "train_data = pd.concat([class_1_no, upsampled_class_0_no])\n",
        "train_data = shuffle(train_data)"
      ],
      "metadata": {
        "id": "N6NppOhTj_FG"
      },
      "execution_count": 44,
      "outputs": []
    },
    {
      "cell_type": "code",
      "source": [
        "print('Training set shape:', train_data.shape)\n",
        "\n",
        "print('Class 1 samples in the training set:', sum(train_data[model_target1] == 1))\n",
        "print('Class 0 samples in the training set:', sum(train_data[model_target1] == 0))"
      ],
      "metadata": {
        "colab": {
          "base_uri": "https://localhost:8080/"
        },
        "id": "5SJg7dbOkEa5",
        "outputId": "01a27f56-9ddc-4aa3-ff26-3db43e55aab3"
      },
      "execution_count": 45,
      "outputs": [
        {
          "output_type": "stream",
          "name": "stdout",
          "text": [
            "Training set shape: (7950, 18)\n",
            "Class 1 samples in the training set: 3975\n",
            "Class 0 samples in the training set: 3975\n"
          ]
        }
      ]
    },
    {
      "cell_type": "code",
      "source": [
        "from sklearn.model_selection import train_test_split\n",
        "from sklearn.impute import SimpleImputer\n",
        "from sklearn.preprocessing import MinMaxScaler\n",
        "from sklearn.neighbors import KNeighborsClassifier\n",
        "from sklearn.pipeline import Pipeline\n",
        "\n",
        "### PIPELINE ###\n",
        "################\n",
        "\n",
        "# Pipeline desired data transformers, along with an estimator at the end\n",
        "# For each step specify: a name, the actual transformer/estimator with its parameters\n",
        "classifier = Pipeline([\n",
        "    ('imputer', SimpleImputer(strategy='mean')),\n",
        "    ('scaler', MinMaxScaler()),\n",
        "    ('estimator', KNeighborsClassifier(n_neighbors = 3))\n",
        "])\n",
        "\n",
        "# Visualize the pipeline\n",
        "# This will come in handy especially when building more complex pipelines, stringing together multiple preprocessing steps\n",
        "from sklearn import set_config\n",
        "set_config(display='diagram')\n",
        "classifier"
      ],
      "metadata": {
        "colab": {
          "base_uri": "https://localhost:8080/",
          "height": 161
        },
        "id": "6hZrMv1PkLD9",
        "outputId": "66566511-ff16-4a48-a394-50f7f820b234"
      },
      "execution_count": 46,
      "outputs": [
        {
          "output_type": "execute_result",
          "data": {
            "text/plain": [
              "Pipeline(steps=[('imputer', SimpleImputer()), ('scaler', MinMaxScaler()),\n",
              "                ('estimator', KNeighborsClassifier(n_neighbors=3))])"
            ],
            "text/html": [
              "<style>#sk-01d739b7-3344-47f2-b156-0557ed3599fd {color: black;background-color: white;}#sk-01d739b7-3344-47f2-b156-0557ed3599fd pre{padding: 0;}#sk-01d739b7-3344-47f2-b156-0557ed3599fd div.sk-toggleable {background-color: white;}#sk-01d739b7-3344-47f2-b156-0557ed3599fd label.sk-toggleable__label {cursor: pointer;display: block;width: 100%;margin-bottom: 0;padding: 0.3em;box-sizing: border-box;text-align: center;}#sk-01d739b7-3344-47f2-b156-0557ed3599fd label.sk-toggleable__label-arrow:before {content: \"▸\";float: left;margin-right: 0.25em;color: #696969;}#sk-01d739b7-3344-47f2-b156-0557ed3599fd label.sk-toggleable__label-arrow:hover:before {color: black;}#sk-01d739b7-3344-47f2-b156-0557ed3599fd div.sk-estimator:hover label.sk-toggleable__label-arrow:before {color: black;}#sk-01d739b7-3344-47f2-b156-0557ed3599fd div.sk-toggleable__content {max-height: 0;max-width: 0;overflow: hidden;text-align: left;background-color: #f0f8ff;}#sk-01d739b7-3344-47f2-b156-0557ed3599fd div.sk-toggleable__content pre {margin: 0.2em;color: black;border-radius: 0.25em;background-color: #f0f8ff;}#sk-01d739b7-3344-47f2-b156-0557ed3599fd input.sk-toggleable__control:checked~div.sk-toggleable__content {max-height: 200px;max-width: 100%;overflow: auto;}#sk-01d739b7-3344-47f2-b156-0557ed3599fd input.sk-toggleable__control:checked~label.sk-toggleable__label-arrow:before {content: \"▾\";}#sk-01d739b7-3344-47f2-b156-0557ed3599fd div.sk-estimator input.sk-toggleable__control:checked~label.sk-toggleable__label {background-color: #d4ebff;}#sk-01d739b7-3344-47f2-b156-0557ed3599fd div.sk-label input.sk-toggleable__control:checked~label.sk-toggleable__label {background-color: #d4ebff;}#sk-01d739b7-3344-47f2-b156-0557ed3599fd input.sk-hidden--visually {border: 0;clip: rect(1px 1px 1px 1px);clip: rect(1px, 1px, 1px, 1px);height: 1px;margin: -1px;overflow: hidden;padding: 0;position: absolute;width: 1px;}#sk-01d739b7-3344-47f2-b156-0557ed3599fd div.sk-estimator {font-family: monospace;background-color: #f0f8ff;border: 1px dotted black;border-radius: 0.25em;box-sizing: border-box;margin-bottom: 0.5em;}#sk-01d739b7-3344-47f2-b156-0557ed3599fd div.sk-estimator:hover {background-color: #d4ebff;}#sk-01d739b7-3344-47f2-b156-0557ed3599fd div.sk-parallel-item::after {content: \"\";width: 100%;border-bottom: 1px solid gray;flex-grow: 1;}#sk-01d739b7-3344-47f2-b156-0557ed3599fd div.sk-label:hover label.sk-toggleable__label {background-color: #d4ebff;}#sk-01d739b7-3344-47f2-b156-0557ed3599fd div.sk-serial::before {content: \"\";position: absolute;border-left: 1px solid gray;box-sizing: border-box;top: 2em;bottom: 0;left: 50%;}#sk-01d739b7-3344-47f2-b156-0557ed3599fd div.sk-serial {display: flex;flex-direction: column;align-items: center;background-color: white;padding-right: 0.2em;padding-left: 0.2em;}#sk-01d739b7-3344-47f2-b156-0557ed3599fd div.sk-item {z-index: 1;}#sk-01d739b7-3344-47f2-b156-0557ed3599fd div.sk-parallel {display: flex;align-items: stretch;justify-content: center;background-color: white;}#sk-01d739b7-3344-47f2-b156-0557ed3599fd div.sk-parallel::before {content: \"\";position: absolute;border-left: 1px solid gray;box-sizing: border-box;top: 2em;bottom: 0;left: 50%;}#sk-01d739b7-3344-47f2-b156-0557ed3599fd div.sk-parallel-item {display: flex;flex-direction: column;position: relative;background-color: white;}#sk-01d739b7-3344-47f2-b156-0557ed3599fd div.sk-parallel-item:first-child::after {align-self: flex-end;width: 50%;}#sk-01d739b7-3344-47f2-b156-0557ed3599fd div.sk-parallel-item:last-child::after {align-self: flex-start;width: 50%;}#sk-01d739b7-3344-47f2-b156-0557ed3599fd div.sk-parallel-item:only-child::after {width: 0;}#sk-01d739b7-3344-47f2-b156-0557ed3599fd div.sk-dashed-wrapped {border: 1px dashed gray;margin: 0 0.4em 0.5em 0.4em;box-sizing: border-box;padding-bottom: 0.4em;background-color: white;position: relative;}#sk-01d739b7-3344-47f2-b156-0557ed3599fd div.sk-label label {font-family: monospace;font-weight: bold;background-color: white;display: inline-block;line-height: 1.2em;}#sk-01d739b7-3344-47f2-b156-0557ed3599fd div.sk-label-container {position: relative;z-index: 2;text-align: center;}#sk-01d739b7-3344-47f2-b156-0557ed3599fd div.sk-container {/* jupyter's `normalize.less` sets `[hidden] { display: none; }` but bootstrap.min.css set `[hidden] { display: none !important; }` so we also need the `!important` here to be able to override the default hidden behavior on the sphinx rendered scikit-learn.org. See: https://github.com/scikit-learn/scikit-learn/issues/21755 */display: inline-block !important;position: relative;}#sk-01d739b7-3344-47f2-b156-0557ed3599fd div.sk-text-repr-fallback {display: none;}</style><div id=\"sk-01d739b7-3344-47f2-b156-0557ed3599fd\" class=\"sk-top-container\"><div class=\"sk-text-repr-fallback\"><pre>Pipeline(steps=[(&#x27;imputer&#x27;, SimpleImputer()), (&#x27;scaler&#x27;, MinMaxScaler()),\n",
              "                (&#x27;estimator&#x27;, KNeighborsClassifier(n_neighbors=3))])</pre><b>Please rerun this cell to show the HTML repr or trust the notebook.</b></div><div class=\"sk-container\" hidden><div class=\"sk-item sk-dashed-wrapped\"><div class=\"sk-label-container\"><div class=\"sk-label sk-toggleable\"><input class=\"sk-toggleable__control sk-hidden--visually\" id=\"43010a28-81ef-442a-9d2a-c3e1185216cc\" type=\"checkbox\" ><label for=\"43010a28-81ef-442a-9d2a-c3e1185216cc\" class=\"sk-toggleable__label sk-toggleable__label-arrow\">Pipeline</label><div class=\"sk-toggleable__content\"><pre>Pipeline(steps=[(&#x27;imputer&#x27;, SimpleImputer()), (&#x27;scaler&#x27;, MinMaxScaler()),\n",
              "                (&#x27;estimator&#x27;, KNeighborsClassifier(n_neighbors=3))])</pre></div></div></div><div class=\"sk-serial\"><div class=\"sk-item\"><div class=\"sk-estimator sk-toggleable\"><input class=\"sk-toggleable__control sk-hidden--visually\" id=\"e41e3e2c-841b-4b1a-b91b-14a06b0c7f9e\" type=\"checkbox\" ><label for=\"e41e3e2c-841b-4b1a-b91b-14a06b0c7f9e\" class=\"sk-toggleable__label sk-toggleable__label-arrow\">SimpleImputer</label><div class=\"sk-toggleable__content\"><pre>SimpleImputer()</pre></div></div></div><div class=\"sk-item\"><div class=\"sk-estimator sk-toggleable\"><input class=\"sk-toggleable__control sk-hidden--visually\" id=\"b3f2f1af-d50b-4584-a37f-d99793ec6f7d\" type=\"checkbox\" ><label for=\"b3f2f1af-d50b-4584-a37f-d99793ec6f7d\" class=\"sk-toggleable__label sk-toggleable__label-arrow\">MinMaxScaler</label><div class=\"sk-toggleable__content\"><pre>MinMaxScaler()</pre></div></div></div><div class=\"sk-item\"><div class=\"sk-estimator sk-toggleable\"><input class=\"sk-toggleable__control sk-hidden--visually\" id=\"567b3f10-9017-41f1-a73d-ee0955eaf5e8\" type=\"checkbox\" ><label for=\"567b3f10-9017-41f1-a73d-ee0955eaf5e8\" class=\"sk-toggleable__label sk-toggleable__label-arrow\">KNeighborsClassifier</label><div class=\"sk-toggleable__content\"><pre>KNeighborsClassifier(n_neighbors=3)</pre></div></div></div></div></div></div></div>"
            ]
          },
          "metadata": {},
          "execution_count": 46
        }
      ]
    },
    {
      "cell_type": "code",
      "source": [
        "# Get train data to train the classifier\n",
        "X_train = train_data[numerical_features_all]\n",
        "y_train = train_data[model_target1]\n",
        "\n",
        "# Fit the classifier to training data\n",
        "# Train data going through the Pipeline it's first imputed, then scaled, and finally used to fit the estimator\n",
        "classifier.fit(X_train, y_train)"
      ],
      "metadata": {
        "colab": {
          "base_uri": "https://localhost:8080/",
          "height": 161
        },
        "id": "hXmZYRiZkLGe",
        "outputId": "85b16815-398c-4bb4-bac4-cc16976af957"
      },
      "execution_count": 48,
      "outputs": [
        {
          "output_type": "execute_result",
          "data": {
            "text/plain": [
              "Pipeline(steps=[('imputer', SimpleImputer()), ('scaler', MinMaxScaler()),\n",
              "                ('estimator', KNeighborsClassifier(n_neighbors=3))])"
            ],
            "text/html": [
              "<style>#sk-356b32c8-a212-44fa-b81f-c573ee201a2c {color: black;background-color: white;}#sk-356b32c8-a212-44fa-b81f-c573ee201a2c pre{padding: 0;}#sk-356b32c8-a212-44fa-b81f-c573ee201a2c div.sk-toggleable {background-color: white;}#sk-356b32c8-a212-44fa-b81f-c573ee201a2c label.sk-toggleable__label {cursor: pointer;display: block;width: 100%;margin-bottom: 0;padding: 0.3em;box-sizing: border-box;text-align: center;}#sk-356b32c8-a212-44fa-b81f-c573ee201a2c label.sk-toggleable__label-arrow:before {content: \"▸\";float: left;margin-right: 0.25em;color: #696969;}#sk-356b32c8-a212-44fa-b81f-c573ee201a2c label.sk-toggleable__label-arrow:hover:before {color: black;}#sk-356b32c8-a212-44fa-b81f-c573ee201a2c div.sk-estimator:hover label.sk-toggleable__label-arrow:before {color: black;}#sk-356b32c8-a212-44fa-b81f-c573ee201a2c div.sk-toggleable__content {max-height: 0;max-width: 0;overflow: hidden;text-align: left;background-color: #f0f8ff;}#sk-356b32c8-a212-44fa-b81f-c573ee201a2c div.sk-toggleable__content pre {margin: 0.2em;color: black;border-radius: 0.25em;background-color: #f0f8ff;}#sk-356b32c8-a212-44fa-b81f-c573ee201a2c input.sk-toggleable__control:checked~div.sk-toggleable__content {max-height: 200px;max-width: 100%;overflow: auto;}#sk-356b32c8-a212-44fa-b81f-c573ee201a2c input.sk-toggleable__control:checked~label.sk-toggleable__label-arrow:before {content: \"▾\";}#sk-356b32c8-a212-44fa-b81f-c573ee201a2c div.sk-estimator input.sk-toggleable__control:checked~label.sk-toggleable__label {background-color: #d4ebff;}#sk-356b32c8-a212-44fa-b81f-c573ee201a2c div.sk-label input.sk-toggleable__control:checked~label.sk-toggleable__label {background-color: #d4ebff;}#sk-356b32c8-a212-44fa-b81f-c573ee201a2c input.sk-hidden--visually {border: 0;clip: rect(1px 1px 1px 1px);clip: rect(1px, 1px, 1px, 1px);height: 1px;margin: -1px;overflow: hidden;padding: 0;position: absolute;width: 1px;}#sk-356b32c8-a212-44fa-b81f-c573ee201a2c div.sk-estimator {font-family: monospace;background-color: #f0f8ff;border: 1px dotted black;border-radius: 0.25em;box-sizing: border-box;margin-bottom: 0.5em;}#sk-356b32c8-a212-44fa-b81f-c573ee201a2c div.sk-estimator:hover {background-color: #d4ebff;}#sk-356b32c8-a212-44fa-b81f-c573ee201a2c div.sk-parallel-item::after {content: \"\";width: 100%;border-bottom: 1px solid gray;flex-grow: 1;}#sk-356b32c8-a212-44fa-b81f-c573ee201a2c div.sk-label:hover label.sk-toggleable__label {background-color: #d4ebff;}#sk-356b32c8-a212-44fa-b81f-c573ee201a2c div.sk-serial::before {content: \"\";position: absolute;border-left: 1px solid gray;box-sizing: border-box;top: 2em;bottom: 0;left: 50%;}#sk-356b32c8-a212-44fa-b81f-c573ee201a2c div.sk-serial {display: flex;flex-direction: column;align-items: center;background-color: white;padding-right: 0.2em;padding-left: 0.2em;}#sk-356b32c8-a212-44fa-b81f-c573ee201a2c div.sk-item {z-index: 1;}#sk-356b32c8-a212-44fa-b81f-c573ee201a2c div.sk-parallel {display: flex;align-items: stretch;justify-content: center;background-color: white;}#sk-356b32c8-a212-44fa-b81f-c573ee201a2c div.sk-parallel::before {content: \"\";position: absolute;border-left: 1px solid gray;box-sizing: border-box;top: 2em;bottom: 0;left: 50%;}#sk-356b32c8-a212-44fa-b81f-c573ee201a2c div.sk-parallel-item {display: flex;flex-direction: column;position: relative;background-color: white;}#sk-356b32c8-a212-44fa-b81f-c573ee201a2c div.sk-parallel-item:first-child::after {align-self: flex-end;width: 50%;}#sk-356b32c8-a212-44fa-b81f-c573ee201a2c div.sk-parallel-item:last-child::after {align-self: flex-start;width: 50%;}#sk-356b32c8-a212-44fa-b81f-c573ee201a2c div.sk-parallel-item:only-child::after {width: 0;}#sk-356b32c8-a212-44fa-b81f-c573ee201a2c div.sk-dashed-wrapped {border: 1px dashed gray;margin: 0 0.4em 0.5em 0.4em;box-sizing: border-box;padding-bottom: 0.4em;background-color: white;position: relative;}#sk-356b32c8-a212-44fa-b81f-c573ee201a2c div.sk-label label {font-family: monospace;font-weight: bold;background-color: white;display: inline-block;line-height: 1.2em;}#sk-356b32c8-a212-44fa-b81f-c573ee201a2c div.sk-label-container {position: relative;z-index: 2;text-align: center;}#sk-356b32c8-a212-44fa-b81f-c573ee201a2c div.sk-container {/* jupyter's `normalize.less` sets `[hidden] { display: none; }` but bootstrap.min.css set `[hidden] { display: none !important; }` so we also need the `!important` here to be able to override the default hidden behavior on the sphinx rendered scikit-learn.org. See: https://github.com/scikit-learn/scikit-learn/issues/21755 */display: inline-block !important;position: relative;}#sk-356b32c8-a212-44fa-b81f-c573ee201a2c div.sk-text-repr-fallback {display: none;}</style><div id=\"sk-356b32c8-a212-44fa-b81f-c573ee201a2c\" class=\"sk-top-container\"><div class=\"sk-text-repr-fallback\"><pre>Pipeline(steps=[(&#x27;imputer&#x27;, SimpleImputer()), (&#x27;scaler&#x27;, MinMaxScaler()),\n",
              "                (&#x27;estimator&#x27;, KNeighborsClassifier(n_neighbors=3))])</pre><b>Please rerun this cell to show the HTML repr or trust the notebook.</b></div><div class=\"sk-container\" hidden><div class=\"sk-item sk-dashed-wrapped\"><div class=\"sk-label-container\"><div class=\"sk-label sk-toggleable\"><input class=\"sk-toggleable__control sk-hidden--visually\" id=\"ad263c05-1bb8-4dfe-9205-9c900e7ac274\" type=\"checkbox\" ><label for=\"ad263c05-1bb8-4dfe-9205-9c900e7ac274\" class=\"sk-toggleable__label sk-toggleable__label-arrow\">Pipeline</label><div class=\"sk-toggleable__content\"><pre>Pipeline(steps=[(&#x27;imputer&#x27;, SimpleImputer()), (&#x27;scaler&#x27;, MinMaxScaler()),\n",
              "                (&#x27;estimator&#x27;, KNeighborsClassifier(n_neighbors=3))])</pre></div></div></div><div class=\"sk-serial\"><div class=\"sk-item\"><div class=\"sk-estimator sk-toggleable\"><input class=\"sk-toggleable__control sk-hidden--visually\" id=\"280d1fee-3b74-4c0d-9b87-743b31b51e08\" type=\"checkbox\" ><label for=\"280d1fee-3b74-4c0d-9b87-743b31b51e08\" class=\"sk-toggleable__label sk-toggleable__label-arrow\">SimpleImputer</label><div class=\"sk-toggleable__content\"><pre>SimpleImputer()</pre></div></div></div><div class=\"sk-item\"><div class=\"sk-estimator sk-toggleable\"><input class=\"sk-toggleable__control sk-hidden--visually\" id=\"928e6607-e8f2-4327-a10a-982062f4a64c\" type=\"checkbox\" ><label for=\"928e6607-e8f2-4327-a10a-982062f4a64c\" class=\"sk-toggleable__label sk-toggleable__label-arrow\">MinMaxScaler</label><div class=\"sk-toggleable__content\"><pre>MinMaxScaler()</pre></div></div></div><div class=\"sk-item\"><div class=\"sk-estimator sk-toggleable\"><input class=\"sk-toggleable__control sk-hidden--visually\" id=\"eb3c6591-c84f-435d-96b2-cb02a98d0fc5\" type=\"checkbox\" ><label for=\"eb3c6591-c84f-435d-96b2-cb02a98d0fc5\" class=\"sk-toggleable__label sk-toggleable__label-arrow\">KNeighborsClassifier</label><div class=\"sk-toggleable__content\"><pre>KNeighborsClassifier(n_neighbors=3)</pre></div></div></div></div></div></div></div>"
            ]
          },
          "metadata": {},
          "execution_count": 48
        }
      ]
    },
    {
      "cell_type": "code",
      "source": [
        "from sklearn.metrics import confusion_matrix, classification_report, accuracy_score, f1_score\n",
        "\n",
        "# Use the fitted model to make predictions on the train dataset\n",
        "# Train data going through the Pipeline it's first imputed (with means from the train), scaled (with the min/max from the train data), and finally used to make predictions\n",
        "train_predictions = classifier.predict(X_train)\n",
        "\n",
        "print('Model performance on the train set:')\n",
        "print(confusion_matrix(y_train, train_predictions))\n",
        "print(classification_report(y_train, train_predictions))\n",
        "print(\"Train accuracy:\", accuracy_score(y_train, train_predictions))"
      ],
      "metadata": {
        "colab": {
          "base_uri": "https://localhost:8080/"
        },
        "id": "z4IOeLK8kLJ-",
        "outputId": "eee1b1d8-71f5-4796-a294-0600a8f12f29"
      },
      "execution_count": 49,
      "outputs": [
        {
          "output_type": "stream",
          "name": "stdout",
          "text": [
            "Model performance on the train set:\n",
            "[[3226  749]\n",
            " [ 686 3289]]\n",
            "              precision    recall  f1-score   support\n",
            "\n",
            "         0.0       0.82      0.81      0.82      3975\n",
            "         1.0       0.81      0.83      0.82      3975\n",
            "\n",
            "    accuracy                           0.82      7950\n",
            "   macro avg       0.82      0.82      0.82      7950\n",
            "weighted avg       0.82      0.82      0.82      7950\n",
            "\n",
            "Train accuracy: 0.819496855345912\n"
          ]
        }
      ]
    },
    {
      "cell_type": "code",
      "source": [
        "from sklearn.metrics import confusion_matrix, classification_report, accuracy_score, f1_score\n",
        "\n",
        "# Get test data to test the classifier\n",
        "X_test = test_data[numerical_features_all]\n",
        "y_test = test_data[model_target1]\n",
        "\n",
        "# Use the fitted model to make predictions on the test dataset\n",
        "# Test data going through the Pipeline it's first imputed (with means from the train), scaled (with the min/max from the train data), and finally used to make predictions\n",
        "test_predictions = classifier.predict(X_test)\n",
        "\n",
        "print('Model performance on the test set:')\n",
        "print(confusion_matrix(y_test, test_predictions))\n",
        "print(classification_report(y_test, test_predictions))\n",
        "print(\"Test accuracy:\", accuracy_score(y_test, test_predictions))"
      ],
      "metadata": {
        "colab": {
          "base_uri": "https://localhost:8080/"
        },
        "id": "69Yz3F74kYsO",
        "outputId": "ba79480f-e2bb-404f-fb1c-b543be65b209"
      },
      "execution_count": 51,
      "outputs": [
        {
          "output_type": "stream",
          "name": "stdout",
          "text": [
            "Model performance on the test set:\n",
            "[[4447 2203]\n",
            " [ 146  274]]\n",
            "              precision    recall  f1-score   support\n",
            "\n",
            "         0.0       0.97      0.67      0.79      6650\n",
            "         1.0       0.11      0.65      0.19       420\n",
            "\n",
            "    accuracy                           0.67      7070\n",
            "   macro avg       0.54      0.66      0.49      7070\n",
            "weighted avg       0.92      0.67      0.76      7070\n",
            "\n",
            "Test accuracy: 0.6677510608203677\n"
          ]
        }
      ]
    }
  ]
}